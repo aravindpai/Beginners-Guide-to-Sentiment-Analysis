{
 "cells": [
  {
   "cell_type": "markdown",
   "metadata": {
    "colab_type": "text",
    "id": "E6dSq8IXNk_u"
   },
   "source": [
    "This notebook contains the code for the sentiment analysis with detailed explaination of the approach as well as concepts used for the model development.\n",
    "\n",
    "**Sentiment analysis** can tell you which customers feel negatively about your brand for whatever reason, providing you an opportunity to address their concerns and plan product improvement.\n",
    "\n",
    "***Sentiment analysis***:\n",
    "\n",
    "The process of  identifying and categorizing opinions expressed in a piece of text, especially in order to determine whether the writer's attitude towards a particular topic, product, etc. is called as Sentiment Analysis\n",
    "\n",
    "***Example***:\n",
    "\n",
    "**Positive Sentiment**: The phone is awesome!\n",
    "\n",
    "**Negative Sentiment**: We lost!\n",
    "\n",
    "***Problem Statement***:\n",
    "\n",
    "The objective of this task is to detect hate speech in tweets.\n",
    "\n",
    "For the sake of simplicity, we say a tweet contains hate speech if it has a racist or sexist sentiment associated with it. So, the task is to classify racist or sexist tweets from other tweets.\n",
    "\n",
    "Formally, given a training sample of tweets and labels, where label '1' denotes the tweet is racist/sexist and label '0' denotes the tweet is not racist/sexist.\n",
    "\n",
    "***Objective***:\n",
    "\n",
    "To build model that identifies the sentiment of a text.\n",
    "\n",
    "\n"
   ]
  },
  {
   "cell_type": "code",
   "execution_count": 1,
   "metadata": {
    "colab": {},
    "colab_type": "code",
    "id": "mcXoFhr4MdM5"
   },
   "outputs": [
    {
     "name": "stderr",
     "output_type": "stream",
     "text": [
      "In /home/rupanshu/.local/lib/python3.6/site-packages/matplotlib/mpl-data/stylelib/_classic_test.mplstyle: \n",
      "The text.latex.preview rcparam was deprecated in Matplotlib 3.3 and will be removed two minor releases later.\n",
      "In /home/rupanshu/.local/lib/python3.6/site-packages/matplotlib/mpl-data/stylelib/_classic_test.mplstyle: \n",
      "The mathtext.fallback_to_cm rcparam was deprecated in Matplotlib 3.3 and will be removed two minor releases later.\n",
      "In /home/rupanshu/.local/lib/python3.6/site-packages/matplotlib/mpl-data/stylelib/_classic_test.mplstyle: Support for setting the 'mathtext.fallback_to_cm' rcParam is deprecated since 3.3 and will be removed two minor releases later; use 'mathtext.fallback : 'cm' instead.\n",
      "In /home/rupanshu/.local/lib/python3.6/site-packages/matplotlib/mpl-data/stylelib/_classic_test.mplstyle: \n",
      "The validate_bool_maybe_none function was deprecated in Matplotlib 3.3 and will be removed two minor releases later.\n",
      "In /home/rupanshu/.local/lib/python3.6/site-packages/matplotlib/mpl-data/stylelib/_classic_test.mplstyle: \n",
      "The savefig.jpeg_quality rcparam was deprecated in Matplotlib 3.3 and will be removed two minor releases later.\n",
      "In /home/rupanshu/.local/lib/python3.6/site-packages/matplotlib/mpl-data/stylelib/_classic_test.mplstyle: \n",
      "The keymap.all_axes rcparam was deprecated in Matplotlib 3.3 and will be removed two minor releases later.\n",
      "In /home/rupanshu/.local/lib/python3.6/site-packages/matplotlib/mpl-data/stylelib/_classic_test.mplstyle: \n",
      "The animation.avconv_path rcparam was deprecated in Matplotlib 3.3 and will be removed two minor releases later.\n",
      "In /home/rupanshu/.local/lib/python3.6/site-packages/matplotlib/mpl-data/stylelib/_classic_test.mplstyle: \n",
      "The animation.avconv_args rcparam was deprecated in Matplotlib 3.3 and will be removed two minor releases later.\n"
     ]
    }
   ],
   "source": [
    "import pandas as pd   #data processing\n",
    "import re             #regular expressions\n",
    "import seaborn as sns #data visualization\n",
    "import numpy as np    #array processing\n",
    "import matplotlib.pyplot as plt  #data visualization\n",
    "from bs4 import BeautifulSoup    #handling HTML \n",
    "from collections import Counter  #container datatypes\n",
    "from wordcloud import WordCloud  #data visualization\n",
    "from nltk.corpus import stopwords# Natural Language toolkit\n",
    "from sklearn.feature_extraction.text import TfidfTransformer #TF-IDF\n",
    "from sklearn.metrics import classification_report, confusion_matrix, accuracy_score\n",
    "from sklearn.linear_model import LogisticRegression\n",
    "from sklearn.model_selection import train_test_split\n",
    "from sklearn.feature_extraction.text import TfidfVectorizer\n",
    "from sklearn.ensemble import RandomForestClassifier \n",
    "from imblearn.over_sampling import SMOTE     #Oversampling\n",
    "from imblearn.pipeline import make_pipeline  #Pipeline is just an abstract notion for performing sequence of different transformations\n",
    "from sklearn.model_selection import GridSearchCV,RandomizedSearchCV, StratifiedKFold\n",
    "from nltk.stem import WordNetLemmatizer      #Lemmatization\n",
    "from nltk.tokenize import WordPunctTokenizer #Tokenizer\n",
    "import nltk\n",
    "# nltk.download('all') \n",
    "\n",
    "import warnings\n",
    "\n",
    "pd.set_option(\"display.max_colwidth\", 200)\n",
    "warnings.filterwarnings(\"ignore\")"
   ]
  },
  {
   "cell_type": "code",
   "execution_count": 2,
   "metadata": {
    "colab": {
     "base_uri": "https://localhost:8080/",
     "height": 153
    },
    "colab_type": "code",
    "id": "byHdwcGrMdSS",
    "outputId": "804d2ae0-2c10-480e-cea4-0f45182a3803"
   },
   "outputs": [
    {
     "name": "stdout",
     "output_type": "stream",
     "text": [
      "<class 'pandas.core.frame.DataFrame'>\n",
      "RangeIndex: 31962 entries, 0 to 31961\n",
      "Data columns (total 3 columns):\n",
      " #   Column  Non-Null Count  Dtype \n",
      "---  ------  --------------  ----- \n",
      " 0   id      31962 non-null  int64 \n",
      " 1   label   31962 non-null  int64 \n",
      " 2   tweet   31962 non-null  object\n",
      "dtypes: int64(2), object(1)\n",
      "memory usage: 749.2+ KB\n"
     ]
    }
   ],
   "source": [
    "data=pd.read_csv(\"data/train_E6oV3lV.csv\")\n",
    "data.info() #Datatypes, dimensions of data"
   ]
  },
  {
   "cell_type": "code",
   "execution_count": 3,
   "metadata": {
    "colab": {
     "base_uri": "https://localhost:8080/",
     "height": 204
    },
    "colab_type": "code",
    "id": "nzLMKa4fMdVC",
    "outputId": "e21ccc4f-cf0b-4ff6-f277-0aee7b0ac137"
   },
   "outputs": [
    {
     "data": {
      "text/html": [
       "<div>\n",
       "<style scoped>\n",
       "    .dataframe tbody tr th:only-of-type {\n",
       "        vertical-align: middle;\n",
       "    }\n",
       "\n",
       "    .dataframe tbody tr th {\n",
       "        vertical-align: top;\n",
       "    }\n",
       "\n",
       "    .dataframe thead th {\n",
       "        text-align: right;\n",
       "    }\n",
       "</style>\n",
       "<table border=\"1\" class=\"dataframe\">\n",
       "  <thead>\n",
       "    <tr style=\"text-align: right;\">\n",
       "      <th></th>\n",
       "      <th>id</th>\n",
       "      <th>label</th>\n",
       "      <th>tweet</th>\n",
       "    </tr>\n",
       "  </thead>\n",
       "  <tbody>\n",
       "    <tr>\n",
       "      <th>0</th>\n",
       "      <td>1</td>\n",
       "      <td>0</td>\n",
       "      <td>@user when a father is dysfunctional and is so selfish he drags his kids into his dysfunction.   #run</td>\n",
       "    </tr>\n",
       "    <tr>\n",
       "      <th>1</th>\n",
       "      <td>2</td>\n",
       "      <td>0</td>\n",
       "      <td>@user @user thanks for #lyft credit i can't use cause they don't offer wheelchair vans in pdx.    #disapointed #getthanked</td>\n",
       "    </tr>\n",
       "    <tr>\n",
       "      <th>2</th>\n",
       "      <td>3</td>\n",
       "      <td>0</td>\n",
       "      <td>bihday your majesty</td>\n",
       "    </tr>\n",
       "    <tr>\n",
       "      <th>3</th>\n",
       "      <td>4</td>\n",
       "      <td>0</td>\n",
       "      <td>#model   i love u take with u all the time in urð±!!! ðððð",
       "ð¦ð¦ð¦</td>\n",
       "    </tr>\n",
       "    <tr>\n",
       "      <th>4</th>\n",
       "      <td>5</td>\n",
       "      <td>0</td>\n",
       "      <td>factsguide: society now    #motivation</td>\n",
       "    </tr>\n",
       "  </tbody>\n",
       "</table>\n",
       "</div>"
      ],
      "text/plain": [
       "   id  label  \\\n",
       "0   1      0   \n",
       "1   2      0   \n",
       "2   3      0   \n",
       "3   4      0   \n",
       "4   5      0   \n",
       "\n",
       "                                                                                                                        tweet  \n",
       "0                       @user when a father is dysfunctional and is so selfish he drags his kids into his dysfunction.   #run  \n",
       "1  @user @user thanks for #lyft credit i can't use cause they don't offer wheelchair vans in pdx.    #disapointed #getthanked  \n",
       "2                                                                                                         bihday your majesty  \n",
       "3                                      #model   i love u take with u all the time in urð±!!! ðððð\n",
       "ð¦ð¦ð¦    \n",
       "4                                                                                      factsguide: society now    #motivation  "
      ]
     },
     "execution_count": 3,
     "metadata": {},
     "output_type": "execute_result"
    }
   ],
   "source": [
    "data.head() #display first 5 rows"
   ]
  },
  {
   "cell_type": "code",
   "execution_count": 4,
   "metadata": {
    "colab": {
     "base_uri": "https://localhost:8080/",
     "height": 204
    },
    "colab_type": "code",
    "id": "36M4MnkGMdYK",
    "outputId": "9bc8f780-ed27-4d2b-d048-653476b663e2"
   },
   "outputs": [
    {
     "data": {
      "text/html": [
       "<div>\n",
       "<style scoped>\n",
       "    .dataframe tbody tr th:only-of-type {\n",
       "        vertical-align: middle;\n",
       "    }\n",
       "\n",
       "    .dataframe tbody tr th {\n",
       "        vertical-align: top;\n",
       "    }\n",
       "\n",
       "    .dataframe thead th {\n",
       "        text-align: right;\n",
       "    }\n",
       "</style>\n",
       "<table border=\"1\" class=\"dataframe\">\n",
       "  <thead>\n",
       "    <tr style=\"text-align: right;\">\n",
       "      <th></th>\n",
       "      <th>label</th>\n",
       "      <th>tweet</th>\n",
       "    </tr>\n",
       "  </thead>\n",
       "  <tbody>\n",
       "    <tr>\n",
       "      <th>0</th>\n",
       "      <td>0</td>\n",
       "      <td>@user when a father is dysfunctional and is so selfish he drags his kids into his dysfunction.   #run</td>\n",
       "    </tr>\n",
       "    <tr>\n",
       "      <th>1</th>\n",
       "      <td>0</td>\n",
       "      <td>@user @user thanks for #lyft credit i can't use cause they don't offer wheelchair vans in pdx.    #disapointed #getthanked</td>\n",
       "    </tr>\n",
       "    <tr>\n",
       "      <th>2</th>\n",
       "      <td>0</td>\n",
       "      <td>bihday your majesty</td>\n",
       "    </tr>\n",
       "    <tr>\n",
       "      <th>3</th>\n",
       "      <td>0</td>\n",
       "      <td>#model   i love u take with u all the time in urð±!!! ðððð",
       "ð¦ð¦ð¦</td>\n",
       "    </tr>\n",
       "    <tr>\n",
       "      <th>4</th>\n",
       "      <td>0</td>\n",
       "      <td>factsguide: society now    #motivation</td>\n",
       "    </tr>\n",
       "  </tbody>\n",
       "</table>\n",
       "</div>"
      ],
      "text/plain": [
       "   label  \\\n",
       "0      0   \n",
       "1      0   \n",
       "2      0   \n",
       "3      0   \n",
       "4      0   \n",
       "\n",
       "                                                                                                                        tweet  \n",
       "0                       @user when a father is dysfunctional and is so selfish he drags his kids into his dysfunction.   #run  \n",
       "1  @user @user thanks for #lyft credit i can't use cause they don't offer wheelchair vans in pdx.    #disapointed #getthanked  \n",
       "2                                                                                                         bihday your majesty  \n",
       "3                                      #model   i love u take with u all the time in urð±!!! ðððð\n",
       "ð¦ð¦ð¦    \n",
       "4                                                                                      factsguide: society now    #motivation  "
      ]
     },
     "execution_count": 4,
     "metadata": {},
     "output_type": "execute_result"
    }
   ],
   "source": [
    "data = data.drop(['id'],axis=1) #drop unnecessary columns\n",
    "data.head()"
   ]
  },
  {
   "cell_type": "code",
   "execution_count": 5,
   "metadata": {
    "colab": {
     "base_uri": "https://localhost:8080/",
     "height": 68
    },
    "colab_type": "code",
    "id": "DD8YCBdHMda5",
    "outputId": "9780af86-91d1-448b-c762-c4c2715a15fc"
   },
   "outputs": [
    {
     "name": "stdout",
     "output_type": "stream",
     "text": [
      "Number of positve tagged sentences is:  29720\n",
      "Number of negative tagged sentences is: 2242\n",
      "Total length of the data is:            31962\n"
     ]
    }
   ],
   "source": [
    "#Understanding class distribution\n",
    "positives = data['label'][data.label == 0]\n",
    "negatives = data['label'][data.label == 1]\n",
    "print('Number of positve tagged sentences is:  {}'.format(len(positives)))\n",
    "print('Number of negative tagged sentences is: {}'.format(len(negatives)))\n",
    "print('Total length of the data is:            {}'.format(data.shape[0]))"
   ]
  },
  {
   "cell_type": "code",
   "execution_count": 6,
   "metadata": {},
   "outputs": [],
   "source": [
    "plt.style.use('ggplot')"
   ]
  },
  {
   "cell_type": "code",
   "execution_count": 7,
   "metadata": {
    "colab": {
     "base_uri": "https://localhost:8080/",
     "height": 378
    },
    "colab_type": "code",
    "id": "MYmZfVbJMddt",
    "outputId": "bec99a3e-9630-499f-8e82-f51b178bd41e"
   },
   "outputs": [
    {
     "data": {
      "text/plain": [
       "<AxesSubplot:xlabel='label', ylabel='count'>"
      ]
     },
     "execution_count": 7,
     "metadata": {},
     "output_type": "execute_result"
    },
    {
     "data": {
      "image/png": "[encoded data removed]",
      "text/plain": [
       "<Figure size 432x288 with 1 Axes>"
      ]
     },
     "metadata": {},
     "output_type": "display_data"
    }
   ],
   "source": [
    "sns.countplot(x=\"label\", data=data) "
   ]
  },
  {
   "cell_type": "code",
   "execution_count": 8,
   "metadata": {
    "colab": {
     "base_uri": "https://localhost:8080/",
     "height": 51
    },
    "colab_type": "code",
    "id": "icn2WjqYMdgf",
    "outputId": "c356a24d-b0b3-427a-837e-68a729629799"
   },
   "outputs": [
    {
     "name": "stdout",
     "output_type": "stream",
     "text": [
      "Propotion of positive tagged sentences is:  0.9298542018647143\n",
      "Propotion of negative tagged sentences is: 0.07014579813528565\n"
     ]
    }
   ],
   "source": [
    "print('Propotion of positive tagged sentences is:  {}'.format(len(positives)/data.shape[0]))\n",
    "print('Propotion of negative tagged sentences is: {}'.format(len(negatives)/data.shape[0]))"
   ]
  },
  {
   "cell_type": "markdown",
   "metadata": {
    "colab_type": "text",
    "id": "zOV6OKdcmF3O"
   },
   "source": [
    "**Data Cleaning**\n",
    "\n",
    "1.The raw data is messy. It contains hashtags, user mentions, non ascii characters, punctuations, numbers, html entities, extra spaces, misspelled words,etc.\n",
    "\n",
    "2.So, Data Pre-processing is the most important step prior to the model building in which we remove all the unnecessary qualities from the data.\n",
    "\n",
    "Let us look at some of the examples\n",
    "\n",
    "\n",
    "***HTML decode***:-\n",
    "\n",
    "HTML encoding has not been converted to text and ended up in text field as ‘&amp’,’&quot’,etc. Decoding HTML to general text will be my first step of data preprocessing."
   ]
  },
  {
   "cell_type": "code",
   "execution_count": 9,
   "metadata": {
    "colab": {
     "base_uri": "https://localhost:8080/",
     "height": 34
    },
    "colab_type": "code",
    "id": "ng93ceMCY8rY",
    "outputId": "65a09724-4bea-4556-f4a6-05de423c0b1e"
   },
   "outputs": [
    {
     "data": {
      "text/plain": [
       "\"product of the day: happy man #wine tool  who's   it's the #weekend? time to open up &amp; drink up!\""
      ]
     },
     "execution_count": 9,
     "metadata": {},
     "output_type": "execute_result"
    }
   ],
   "source": [
    "data.tweet[22]  #html decoding"
   ]
  },
  {
   "cell_type": "code",
   "execution_count": 10,
   "metadata": {
    "colab": {
     "base_uri": "https://localhost:8080/",
     "height": 34
    },
    "colab_type": "code",
    "id": "9J5L-cwPY8pk",
    "outputId": "82f57e47-e738-47d2-fb07-978c1bcc0fd8"
   },
   "outputs": [
    {
     "name": "stdout",
     "output_type": "stream",
     "text": [
      "product of the day: happy man #wine tool  who's   it's the #weekend? time to open up & drink up!\n"
     ]
    }
   ],
   "source": [
    "example1 = BeautifulSoup(data.tweet[22], 'lxml')\n",
    "print(example1.get_text())"
   ]
  },
  {
   "cell_type": "markdown",
   "metadata": {
    "colab_type": "text",
    "id": "k8lLjxarmhOs"
   },
   "source": [
    "***Contraction Mapping***"
   ]
  },
  {
   "cell_type": "code",
   "execution_count": 11,
   "metadata": {
    "colab": {
     "base_uri": "https://localhost:8080/",
     "height": 34
    },
    "colab_type": "code",
    "id": "5lrIws7nY8nP",
    "outputId": "d4885939-2c12-4e4e-aa36-fa4ad2d21813"
   },
   "outputs": [
    {
     "data": {
      "text/plain": [
       "\"@user @user thanks for #lyft credit i can't use cause they don't offer wheelchair vans in pdx.    #disapointed #getthanked\""
      ]
     },
     "execution_count": 11,
     "metadata": {},
     "output_type": "execute_result"
    }
   ],
   "source": [
    "data.tweet[1] #converting don't to \"do not\""
   ]
  },
  {
   "cell_type": "code",
   "execution_count": 12,
   "metadata": {
    "colab": {
     "base_uri": "https://localhost:8080/",
     "height": 34
    },
    "colab_type": "code",
    "id": "3hbHU2FKqzs-",
    "outputId": "658d5db1-4948-4b3b-8cdb-2c26643c32eb"
   },
   "outputs": [
    {
     "data": {
      "text/plain": [
       "\"@user @user thanks for #lyft credit i can't use cause they do not offer wheelchair vans in pdx.    #disapointed #getthanked\""
      ]
     },
     "execution_count": 12,
     "metadata": {},
     "output_type": "execute_result"
    }
   ],
   "source": [
    "data.tweet[1].replace('don\\'t','do not')"
   ]
  },
  {
   "cell_type": "markdown",
   "metadata": {
    "colab_type": "text",
    "id": "RX0pPX4Zon7j"
   },
   "source": [
    "***UTF-8 BOM*** :- \n",
    "\n",
    "By looking at the above entry, I can see strange patterns of characters “\\xef\\xbf\\xbd”. After some researching, I found that these are UTF-8 BOM.\n",
    "\n",
    "The UTF-8 BOM is a sequence of bytes (EF BB BF) that allows the reader to identify a file as being encoded in UTF-8.”\n",
    "\n",
    "Let us ignore these bytes.\n",
    "\n"
   ]
  },
  {
   "cell_type": "code",
   "execution_count": 13,
   "metadata": {
    "colab": {
     "base_uri": "https://localhost:8080/",
     "height": 34
    },
    "colab_type": "code",
    "id": "NGR-MpFuY8kO",
    "outputId": "29c2ed30-db6d-4271-f67e-dc03bfeff4a6"
   },
   "outputs": [
    {
     "data": {
      "text/plain": [
       "'#model   i love u take with u all the time in urð\\x9f\\x93±!!! ð\\x9f\\x98\\x99ð\\x9f\\x98\\x8eð\\x9f\\x91\\x84ð\\x9f\\x91\\x85ð\\x9f\\x92¦ð\\x9f\\x92¦ð\\x9f\\x92¦  '"
      ]
     },
     "execution_count": 13,
     "metadata": {},
     "output_type": "execute_result"
    }
   ],
   "source": [
    "data.tweet[3]"
   ]
  },
  {
   "cell_type": "code",
   "execution_count": 14,
   "metadata": {
    "colab": {
     "base_uri": "https://localhost:8080/",
     "height": 34
    },
    "colab_type": "code",
    "id": "hC9lFW3mLSGO",
    "outputId": "7a6e1cd0-d47b-4bd8-ff79-b52e083b2425"
   },
   "outputs": [
    {
     "data": {
      "text/plain": [
       "'#model   i love u take with u all the time in ur!!!   '"
      ]
     },
     "execution_count": 14,
     "metadata": {},
     "output_type": "execute_result"
    }
   ],
   "source": [
    "newString = (data.tweet[3].encode('ascii', 'ignore')).decode(\"utf-8\")\n",
    "newString"
   ]
  },
  {
   "cell_type": "markdown",
   "metadata": {
    "colab_type": "text",
    "id": "r318SMcgquEG"
   },
   "source": [
    "**Removal of Hashtag symbol & User mentions**\n",
    "\n",
    "Sometimes the text used with hashtag can provide useful information about the tweet. It might be a bit risky to get rid of all the text together with the hashtag.\n",
    "So I decided to leave the text intact and just remove the ‘#’. "
   ]
  },
  {
   "cell_type": "code",
   "execution_count": 15,
   "metadata": {
    "colab": {
     "base_uri": "https://localhost:8080/",
     "height": 34
    },
    "colab_type": "code",
    "id": "F4GhbLIcLSJl",
    "outputId": "f34a36ad-0b2a-4639-cfd4-e14640084891"
   },
   "outputs": [
    {
     "data": {
      "text/plain": [
       "\"@user @user thanks for #lyft credit i can't use cause they don't offer wheelchair vans in pdx.    #disapointed #getthanked\""
      ]
     },
     "execution_count": 15,
     "metadata": {},
     "output_type": "execute_result"
    }
   ],
   "source": [
    "data.tweet[1]"
   ]
  },
  {
   "cell_type": "code",
   "execution_count": 16,
   "metadata": {
    "colab": {
     "base_uri": "https://localhost:8080/",
     "height": 34
    },
    "colab_type": "code",
    "id": "IXIDqHATLSMp",
    "outputId": "e2d74ac9-e9ef-4913-d5e2-7fe4c18acca3"
   },
   "outputs": [
    {
     "data": {
      "text/plain": [
       "\"  thanks for lyft credit i can't use cause they don't offer wheelchair vans in pdx.    disapointed getthanked\""
      ]
     },
     "execution_count": 16,
     "metadata": {},
     "output_type": "execute_result"
    }
   ],
   "source": [
    "import re\n",
    "newString=re.sub(r'@[A-Za-z0-9]+','',data.tweet[1])\n",
    "newstring=newString.replace(\"#\",\"\")\n",
    "newstring"
   ]
  },
  {
   "cell_type": "markdown",
   "metadata": {
    "colab_type": "text",
    "id": "9GkVjc_asD3F"
   },
   "source": [
    "***Removal of Numbers, Punctuations, Special Characters ***"
   ]
  },
  {
   "cell_type": "code",
   "execution_count": 17,
   "metadata": {
    "colab": {
     "base_uri": "https://localhost:8080/",
     "height": 34
    },
    "colab_type": "code",
    "id": "gLeOvXWKqlUK",
    "outputId": "84ba3c90-de9b-41f4-9fb6-5e701afc4098"
   },
   "outputs": [
    {
     "data": {
      "text/plain": [
       "'we won!!! love the land!!! #allin #cavs #champions #cleveland #clevelandcavaliers  â\\x80¦ '"
      ]
     },
     "execution_count": 17,
     "metadata": {},
     "output_type": "execute_result"
    }
   ],
   "source": [
    "data.tweet[8]"
   ]
  },
  {
   "cell_type": "code",
   "execution_count": 18,
   "metadata": {
    "colab": {
     "base_uri": "https://localhost:8080/",
     "height": 34
    },
    "colab_type": "code",
    "id": "G9a0gLXzqlZP",
    "outputId": "df3cbdd0-79af-45fd-89bc-b886fd0734ba"
   },
   "outputs": [
    {
     "data": {
      "text/plain": [
       "'we won    love the land     allin  cavs  champions  cleveland  clevelandcavaliers      '"
      ]
     },
     "execution_count": 18,
     "metadata": {},
     "output_type": "execute_result"
    }
   ],
   "source": [
    "re.sub(\"[^a-zA-Z]\", \" \", data.tweet[8])"
   ]
  },
  {
   "cell_type": "markdown",
   "metadata": {
    "colab_type": "text",
    "id": "XbEGyraktRuo"
   },
   "source": [
    "***Removal of short words***"
   ]
  },
  {
   "cell_type": "code",
   "execution_count": 19,
   "metadata": {
    "colab": {
     "base_uri": "https://localhost:8080/",
     "height": 34
    },
    "colab_type": "code",
    "id": "eNnBqOHGtBUc",
    "outputId": "8937a857-5c94-4c66-f57a-5d7e11631816"
   },
   "outputs": [
    {
     "data": {
      "text/plain": [
       "'won!!! love land!!! #allin #cavs #champions #cleveland #clevelandcavaliers '"
      ]
     },
     "execution_count": 19,
     "metadata": {},
     "output_type": "execute_result"
    }
   ],
   "source": [
    "new_sentence=''\n",
    "for i in data.tweet[8].split():\n",
    "  if len(i)>3:\n",
    "    new_sentence=new_sentence+i+' '\n",
    "new_sentence"
   ]
  },
  {
   "cell_type": "markdown",
   "metadata": {
    "colab_type": "text",
    "id": "GR1g8ptfufGR"
   },
   "source": [
    "***Text Normalization***\n",
    "\n",
    "There are 2 types of normalization techniques:-\n",
    "\n",
    "1.**Stemming** is the process of converting the words of a sentence to its non-changing portions. In the example of amusing, amusement, and amused above, the stem would be amus.\n",
    "\n",
    "2.**Lemmatization** is the process of converting the words of a sentence to its dictionary form. For example, given the words amusement, amusing, and amused, the lemma for each and all would be amuse.\n",
    "\n",
    "Here, I prefer Lemmatization over Stemming since lemma results in dictionary form."
   ]
  },
  {
   "cell_type": "code",
   "execution_count": 20,
   "metadata": {
    "colab": {
     "base_uri": "https://localhost:8080/",
     "height": 34
    },
    "colab_type": "code",
    "id": "N5i1rmyTtBcw",
    "outputId": "38a4046e-df0b-44de-d655-0f4681e1105f"
   },
   "outputs": [
    {
     "data": {
      "text/plain": [
       "'[2/2] huge fan fare and big talking before they leave. chaos and pay disputes when they get there. #allshowandnogo  '"
      ]
     },
     "execution_count": 20,
     "metadata": {},
     "output_type": "execute_result"
    }
   ],
   "source": [
    "data.tweet[5]"
   ]
  },
  {
   "cell_type": "code",
   "execution_count": 21,
   "metadata": {
    "colab": {
     "base_uri": "https://localhost:8080/",
     "height": 34
    },
    "colab_type": "code",
    "id": "QOo96T3Bqlfk",
    "outputId": "38217978-3e5a-4e6f-9d87-a72a365b7677"
   },
   "outputs": [
    {
     "data": {
      "text/plain": [
       "'[2/2] huge fan fare and big talking before they leave. chaos and pay dispute when they get there. #allshowandnogo '"
      ]
     },
     "execution_count": 21,
     "metadata": {},
     "output_type": "execute_result"
    }
   ],
   "source": [
    "lemmatizer = WordNetLemmatizer() \n",
    "new_sentence=''\n",
    "for i in data.tweet[5].split():\n",
    "    new_sentence=new_sentence+lemmatizer.lemmatize(i)+' '\n",
    "new_sentence"
   ]
  },
  {
   "cell_type": "markdown",
   "metadata": {
    "colab_type": "text",
    "id": "2V0-6lMI1Tz7"
   },
   "source": [
    "***Pre-Processing of Tweets***"
   ]
  },
  {
   "cell_type": "code",
   "execution_count": 22,
   "metadata": {
    "colab": {},
    "colab_type": "code",
    "id": "m4rJOxo6x1HO"
   },
   "outputs": [],
   "source": [
    "def clean_contractions(text, mapping):\n",
    "    specials = [\"’\", \"‘\", \"´\", \"`\"]\n",
    "    for s in specials:\n",
    "        text = text.replace(s, \"'\")\n",
    "    text = ' '.join([mapping[t] if t in mapping else t for t in text.split(\" \")])\n",
    "    return text\n",
    "  \n",
    "contraction_mapping = {\"ain't\": \"is not\", \"aren't\": \"are not\",\"can't\": \"cannot\", \"'cause\": \"because\", \"could've\": \"could have\", \"couldn't\": \"could not\",\n",
    "                           \"didn't\": \"did not\",  \"doesn't\": \"does not\", \"don't\": \"do not\", \"hadn't\": \"had not\", \"hasn't\": \"has not\", \"haven't\": \"have not\",\n",
    "                           \"he'd\": \"he would\",\"he'll\": \"he will\", \"he's\": \"he is\", \"how'd\": \"how did\", \"how'd'y\": \"how do you\", \"how'll\": \"how will\", \"how's\": \"how is\",\n",
    "                           \"I'd\": \"I would\", \"I'd've\": \"I would have\", \"I'll\": \"I will\", \"I'll've\": \"I will have\",\"I'm\": \"I am\", \"I've\": \"I have\", \"i'd\": \"i would\",\n",
    "                           \"i'd've\": \"i would have\", \"i'll\": \"i will\",  \"i'll've\": \"i will have\",\"i'm\": \"i am\", \"i've\": \"i have\", \"isn't\": \"is not\", \"it'd\": \"it would\",\n",
    "                           \"it'd've\": \"it would have\", \"it'll\": \"it will\", \"it'll've\": \"it will have\",\"it's\": \"it is\", \"let's\": \"let us\", \"ma'am\": \"madam\",\n",
    "                           \"mayn't\": \"may not\", \"might've\": \"might have\",\"mightn't\": \"might not\",\"mightn't've\": \"might not have\", \"must've\": \"must have\",\n",
    "                           \"mustn't\": \"must not\", \"mustn't've\": \"must not have\", \"needn't\": \"need not\", \"needn't've\": \"need not have\",\"o'clock\": \"of the clock\",\n",
    "                           \"oughtn't\": \"ought not\", \"oughtn't've\": \"ought not have\", \"shan't\": \"shall not\", \"sha'n't\": \"shall not\", \"shan't've\": \"shall not have\",\n",
    "                           \"she'd\": \"she would\", \"she'd've\": \"she would have\", \"she'll\": \"she will\", \"she'll've\": \"she will have\", \"she's\": \"she is\",\n",
    "                           \"should've\": \"should have\", \"shouldn't\": \"should not\", \"shouldn't've\": \"should not have\", \"so've\": \"so have\",\"so's\": \"so as\",\n",
    "                           \"this's\": \"this is\",\"that'd\": \"that would\", \"that'd've\": \"that would have\", \"that's\": \"that is\", \"there'd\": \"there would\",\n",
    "                           \"there'd've\": \"there would have\", \"there's\": \"there is\", \"here's\": \"here is\",\"they'd\": \"they would\", \"they'd've\": \"they would have\",\n",
    "                           \"they'll\": \"they will\", \"they'll've\": \"they will have\", \"they're\": \"they are\", \"they've\": \"they have\", \"to've\": \"to have\",\n",
    "                           \"wasn't\": \"was not\", \"we'd\": \"we would\", \"we'd've\": \"we would have\", \"we'll\": \"we will\", \"we'll've\": \"we will have\", \"we're\": \"we are\",\n",
    "                           \"we've\": \"we have\", \"weren't\": \"were not\", \"what'll\": \"what will\", \"what'll've\": \"what will have\", \"what're\": \"what are\",\n",
    "                           \"what's\": \"what is\", \"what've\": \"what have\", \"when's\": \"when is\", \"when've\": \"when have\", \"where'd\": \"where did\", \"where's\": \"where is\",\n",
    "                           \"where've\": \"where have\", \"who'll\": \"who will\", \"who'll've\": \"who will have\", \"who's\": \"who is\", \"who've\": \"who have\",\n",
    "                           \"why's\": \"why is\", \"why've\": \"why have\", \"will've\": \"will have\", \"won't\": \"will not\", \"won't've\": \"will not have\",\n",
    "                           \"would've\": \"would have\", \"wouldn't\": \"would not\", \"wouldn't've\": \"would not have\", \"y'all\": \"you all\",\n",
    "                           \"y'all'd\": \"you all would\",\"y'all'd've\": \"you all would have\",\"y'all're\": \"you all are\",\"y'all've\": \"you all have\",\n",
    "                           \"you'd\": \"you would\", \"you'd've\": \"you would have\", \"you'll\": \"you will\", \"you'll've\": \"you will have\",\n",
    "                           \"you're\": \"you are\", \"you've\": \"you have\" }  \n",
    "\n",
    "data['tweet'] = data['tweet'].apply(lambda x: clean_contractions(x, contraction_mapping))"
   ]
  },
  {
   "cell_type": "code",
   "execution_count": 23,
   "metadata": {
    "colab": {
     "base_uri": "https://localhost:8080/",
     "height": 204
    },
    "colab_type": "code",
    "id": "3JBYdqVGyJ86",
    "outputId": "4d3b342e-b786-43c5-a640-97c409dbab6f"
   },
   "outputs": [
    {
     "data": {
      "text/html": [
       "<div>\n",
       "<style scoped>\n",
       "    .dataframe tbody tr th:only-of-type {\n",
       "        vertical-align: middle;\n",
       "    }\n",
       "\n",
       "    .dataframe tbody tr th {\n",
       "        vertical-align: top;\n",
       "    }\n",
       "\n",
       "    .dataframe thead th {\n",
       "        text-align: right;\n",
       "    }\n",
       "</style>\n",
       "<table border=\"1\" class=\"dataframe\">\n",
       "  <thead>\n",
       "    <tr style=\"text-align: right;\">\n",
       "      <th></th>\n",
       "      <th>label</th>\n",
       "      <th>tweet</th>\n",
       "    </tr>\n",
       "  </thead>\n",
       "  <tbody>\n",
       "    <tr>\n",
       "      <th>0</th>\n",
       "      <td>0</td>\n",
       "      <td>@user when a father is dysfunctional and is so selfish he drags his kids into his dysfunction.   #run</td>\n",
       "    </tr>\n",
       "    <tr>\n",
       "      <th>1</th>\n",
       "      <td>0</td>\n",
       "      <td>@user @user thanks for #lyft credit i cannot use cause they do not offer wheelchair vans in pdx.    #disapointed #getthanked</td>\n",
       "    </tr>\n",
       "    <tr>\n",
       "      <th>2</th>\n",
       "      <td>0</td>\n",
       "      <td>bihday your majesty</td>\n",
       "    </tr>\n",
       "    <tr>\n",
       "      <th>3</th>\n",
       "      <td>0</td>\n",
       "      <td>#model   i love u take with u all the time in urð±!!! ðððð",
       "ð¦ð¦ð¦</td>\n",
       "    </tr>\n",
       "    <tr>\n",
       "      <th>4</th>\n",
       "      <td>0</td>\n",
       "      <td>factsguide: society now    #motivation</td>\n",
       "    </tr>\n",
       "  </tbody>\n",
       "</table>\n",
       "</div>"
      ],
      "text/plain": [
       "   label  \\\n",
       "0      0   \n",
       "1      0   \n",
       "2      0   \n",
       "3      0   \n",
       "4      0   \n",
       "\n",
       "                                                                                                                          tweet  \n",
       "0                         @user when a father is dysfunctional and is so selfish he drags his kids into his dysfunction.   #run  \n",
       "1  @user @user thanks for #lyft credit i cannot use cause they do not offer wheelchair vans in pdx.    #disapointed #getthanked  \n",
       "2                                                                                                           bihday your majesty  \n",
       "3                                        #model   i love u take with u all the time in urð±!!! ðððð\n",
       "ð¦ð¦ð¦    \n",
       "4                                                                                        factsguide: society now    #motivation  "
      ]
     },
     "execution_count": 23,
     "metadata": {},
     "output_type": "execute_result"
    }
   ],
   "source": [
    "data.head()"
   ]
  },
  {
   "cell_type": "code",
   "execution_count": 24,
   "metadata": {
    "colab": {
     "base_uri": "https://localhost:8080/",
     "height": 102
    },
    "colab_type": "code",
    "id": "rA7XL9MdxITs",
    "outputId": "f9b13c42-8f5d-48f8-9c7f-7daf06949572"
   },
   "outputs": [
    {
     "data": {
      "text/plain": [
       "['when father dysfunctional selfish drag kid into dysfunction',\n",
       " 'thanks lyft credit cannot cause they offer wheelchair van disapointed getthanked',\n",
       " 'bihday your majesty',\n",
       " 'model love take with time',\n",
       " 'factsguide society motivation']"
      ]
     },
     "execution_count": 24,
     "metadata": {},
     "output_type": "execute_result"
    }
   ],
   "source": [
    "tok = WordPunctTokenizer()\n",
    "\n",
    "def tweet_cleaner(text):\n",
    "    soup = BeautifulSoup(text, 'lxml')                             #decode html\n",
    "    souped = soup.get_text()                                       #get text\n",
    "    newString = (souped.encode('ascii', 'ignore')).decode(\"utf-8\") #encode to ascii\n",
    "    newString=re.sub(r'@[A-Za-z0-9]+','',newString)                #removing user mentions\n",
    "    letters_only = re.sub(\"[^a-zA-Z]\", \" \", newString)             #Fetching out only ascii characters\n",
    "    lower_case = letters_only.lower()                              #converting everything to lowercase\n",
    "    words = tok.tokenize(lower_case)                               #tokenize and join together to remove white spaces between words\n",
    "    long_words=[]\n",
    "    for i in words:\n",
    "        if len(i)>3:                                                 #removing short words\n",
    "            long_words.append(lemmatizer.lemmatize(i))                 #converting words to lemma\n",
    "    return (\" \".join(long_words)).strip()                          #combining to form sentence\n",
    "  \n",
    "cleaned_tweets = []\n",
    "for t in data.tweet:\n",
    "  cleaned_tweets.append(tweet_cleaner(t))\n",
    "cleaned_tweets[:5]"
   ]
  },
  {
   "cell_type": "code",
   "execution_count": 25,
   "metadata": {
    "colab": {},
    "colab_type": "code",
    "id": "RfHK9upr4OMZ"
   },
   "outputs": [],
   "source": [
    "data['cleaned_tweets']=cleaned_tweets #creating new dataframe"
   ]
  },
  {
   "cell_type": "code",
   "execution_count": 26,
   "metadata": {
    "colab": {
     "base_uri": "https://localhost:8080/",
     "height": 238
    },
    "colab_type": "code",
    "id": "gcyOxJdnw50J",
    "outputId": "dd75448e-7811-4dc2-996d-563bca091fce"
   },
   "outputs": [
    {
     "data": {
      "text/html": [
       "<div>\n",
       "<style scoped>\n",
       "    .dataframe tbody tr th:only-of-type {\n",
       "        vertical-align: middle;\n",
       "    }\n",
       "\n",
       "    .dataframe tbody tr th {\n",
       "        vertical-align: top;\n",
       "    }\n",
       "\n",
       "    .dataframe thead th {\n",
       "        text-align: right;\n",
       "    }\n",
       "</style>\n",
       "<table border=\"1\" class=\"dataframe\">\n",
       "  <thead>\n",
       "    <tr style=\"text-align: right;\">\n",
       "      <th></th>\n",
       "      <th>label</th>\n",
       "      <th>tweet</th>\n",
       "      <th>cleaned_tweets</th>\n",
       "      <th>word count</th>\n",
       "    </tr>\n",
       "  </thead>\n",
       "  <tbody>\n",
       "    <tr>\n",
       "      <th>0</th>\n",
       "      <td>0</td>\n",
       "      <td>@user when a father is dysfunctional and is so selfish he drags his kids into his dysfunction.   #run</td>\n",
       "      <td>when father dysfunctional selfish drag kid into dysfunction</td>\n",
       "      <td>8</td>\n",
       "    </tr>\n",
       "    <tr>\n",
       "      <th>1</th>\n",
       "      <td>0</td>\n",
       "      <td>@user @user thanks for #lyft credit i cannot use cause they do not offer wheelchair vans in pdx.    #disapointed #getthanked</td>\n",
       "      <td>thanks lyft credit cannot cause they offer wheelchair van disapointed getthanked</td>\n",
       "      <td>11</td>\n",
       "    </tr>\n",
       "    <tr>\n",
       "      <th>2</th>\n",
       "      <td>0</td>\n",
       "      <td>bihday your majesty</td>\n",
       "      <td>bihday your majesty</td>\n",
       "      <td>3</td>\n",
       "    </tr>\n",
       "    <tr>\n",
       "      <th>3</th>\n",
       "      <td>0</td>\n",
       "      <td>#model   i love u take with u all the time in urð±!!! ðððð",
       "ð¦ð¦ð¦</td>\n",
       "      <td>model love take with time</td>\n",
       "      <td>5</td>\n",
       "    </tr>\n",
       "    <tr>\n",
       "      <th>4</th>\n",
       "      <td>0</td>\n",
       "      <td>factsguide: society now    #motivation</td>\n",
       "      <td>factsguide society motivation</td>\n",
       "      <td>3</td>\n",
       "    </tr>\n",
       "  </tbody>\n",
       "</table>\n",
       "</div>"
      ],
      "text/plain": [
       "   label  \\\n",
       "0      0   \n",
       "1      0   \n",
       "2      0   \n",
       "3      0   \n",
       "4      0   \n",
       "\n",
       "                                                                                                                          tweet  \\\n",
       "0                         @user when a father is dysfunctional and is so selfish he drags his kids into his dysfunction.   #run   \n",
       "1  @user @user thanks for #lyft credit i cannot use cause they do not offer wheelchair vans in pdx.    #disapointed #getthanked   \n",
       "2                                                                                                           bihday your majesty   \n",
       "3                                        #model   i love u take with u all the time in urð±!!! ðððð\n",
       "ð¦ð¦ð¦     \n",
       "4                                                                                        factsguide: society now    #motivation   \n",
       "\n",
       "                                                                     cleaned_tweets  \\\n",
       "0                       when father dysfunctional selfish drag kid into dysfunction   \n",
       "1  thanks lyft credit cannot cause they offer wheelchair van disapointed getthanked   \n",
       "2                                                               bihday your majesty   \n",
       "3                                                         model love take with time   \n",
       "4                                                     factsguide society motivation   \n",
       "\n",
       "   word count  \n",
       "0           8  \n",
       "1          11  \n",
       "2           3  \n",
       "3           5  \n",
       "4           3  "
      ]
     },
     "execution_count": 26,
     "metadata": {},
     "output_type": "execute_result"
    }
   ],
   "source": [
    "def word_count(sentence):\n",
    "    return len(sentence.split())\n",
    "    \n",
    "data['word count'] = data['cleaned_tweets'].apply(word_count) \n",
    "data.head()"
   ]
  },
  {
   "cell_type": "code",
   "execution_count": 27,
   "metadata": {
    "colab": {
     "base_uri": "https://localhost:8080/",
     "height": 405
    },
    "colab_type": "code",
    "id": "9GVo8_cnw54m",
    "outputId": "daee3df5-9a3f-433d-e0dd-928734358e7a"
   },
   "outputs": [
    {
     "data": {
      "text/plain": [
       "<matplotlib.legend.Legend at 0x7f04f7be0208>"
      ]
     },
     "execution_count": 27,
     "metadata": {},
     "output_type": "execute_result"
    },
    {
     "data": {
      "image/png": "[encoded data removed]",
      "text/plain": [
       "<Figure size 864x432 with 1 Axes>"
      ]
     },
     "metadata": {},
     "output_type": "display_data"
    }
   ],
   "source": [
    "# plot word count distribution for both positive and negative sentiments\n",
    "x = data['word count'][data.label == 1]\n",
    "y = data['word count'][data.label == 0]\n",
    "plt.figure(figsize=(12,6))\n",
    "plt.xlim(0,20)\n",
    "plt.xlabel('word count')\n",
    "plt.ylabel('frequency')\n",
    "g = plt.hist([x, y], color=['r','b'], alpha=0.5, label=['positive','negative'])\n",
    "plt.legend(loc='upper right')"
   ]
  },
  {
   "cell_type": "code",
   "execution_count": 28,
   "metadata": {
    "colab": {
     "base_uri": "https://localhost:8080/",
     "height": 187
    },
    "colab_type": "code",
    "id": "qfqs1AJBw5w8",
    "outputId": "9e9a0eb0-7a95-4082-bc98-834d46a7648e"
   },
   "outputs": [
    {
     "data": {
      "text/plain": [
       "[('love', 2874),\n",
       " ('this', 2686),\n",
       " ('with', 2531),\n",
       " ('that', 2061),\n",
       " ('have', 2018),\n",
       " ('your', 1704),\n",
       " ('happy', 1700),\n",
       " ('will', 1625),\n",
       " ('just', 1365),\n",
       " ('when', 1269),\n",
       " ('life', 1267),\n",
       " ('time', 1262),\n",
       " ('like', 1222),\n",
       " ('what', 1169),\n",
       " ('today', 1105),\n",
       " ('from', 1059),\n",
       " ('father', 956),\n",
       " ('thankful', 952),\n",
       " ('positive', 938),\n",
       " ('people', 894)]"
      ]
     },
     "execution_count": 28,
     "metadata": {},
     "output_type": "execute_result"
    }
   ],
   "source": [
    "# get most common words in training dataset\n",
    "all_words = []\n",
    "for line in list(data['cleaned_tweets']):\n",
    "    words = line.split()\n",
    "    for word in words:\n",
    "        all_words.append(word.lower())\n",
    "    \n",
    "    \n",
    "Counter(all_words).most_common(20)"
   ]
  },
  {
   "cell_type": "code",
   "execution_count": 29,
   "metadata": {
    "colab": {
     "base_uri": "https://localhost:8080/",
     "height": 384
    },
    "colab_type": "code",
    "id": "h4GPQD5Nw5tt",
    "outputId": "505bcc75-75be-4d90-a363-4b04d728edb7"
   },
   "outputs": [
    {
     "data": {
      "image/png": "[encoded data removed]",
      "text/plain": [
       "<Figure size 864x360 with 1 Axes>"
      ]
     },
     "metadata": {},
     "output_type": "display_data"
    },
    {
     "data": {
      "text/plain": [
       "<AxesSubplot:title={'center':'Top 25 most common words'}, xlabel='Samples', ylabel='Counts'>"
      ]
     },
     "execution_count": 29,
     "metadata": {},
     "output_type": "execute_result"
    }
   ],
   "source": [
    "plt.figure(figsize=(12,5))\n",
    "plt.title('Top 25 most common words')\n",
    "plt.xticks(fontsize=13, rotation=90)\n",
    "fd = nltk.FreqDist(all_words)\n",
    "fd.plot(25,cumulative=False)"
   ]
  },
  {
   "cell_type": "code",
   "execution_count": 30,
   "metadata": {
    "colab": {
     "base_uri": "https://localhost:8080/",
     "height": 578
    },
    "colab_type": "code",
    "id": "KI8aAKGIw5qA",
    "outputId": "ae356110-4e19-4927-a7be-7df85e50f09f"
   },
   "outputs": [
    {
     "data": {
      "image/png": "[encoded data removed]",
      "text/plain": [
       "<Figure size 1224x1008 with 1 Axes>"
      ]
     },
     "metadata": {},
     "output_type": "display_data"
    }
   ],
   "source": [
    "# create a word frequency dictionary\n",
    "wordfreq = Counter(all_words)\n",
    "# draw a Word Cloud with word frequencies\n",
    "wordcloud = WordCloud(width=900,\n",
    "                      height=500,\n",
    "                      max_words=100,\n",
    "                      max_font_size=100,\n",
    "                      relative_scaling=0.5,\n",
    "                      colormap='Blues',\n",
    "                      normalize_plurals=True).generate_from_frequencies(wordfreq)\n",
    "plt.figure(figsize=(17,14))\n",
    "plt.imshow(wordcloud, interpolation='bilinear')\n",
    "plt.axis(\"off\")\n",
    "plt.show()"
   ]
  },
  {
   "cell_type": "markdown",
   "metadata": {
    "colab_type": "text",
    "id": "c0IPmhTzDH2C"
   },
   "source": [
    "Let us dive into the concept of embeddings\n",
    "\n",
    "***Why embeddings?***\n",
    "\n",
    "Machine Learning algorithm can understand only numbers but not raw string. Thats the reason why we have to convert the text to numeric form before feeding into machine learning model.\n",
    "\n",
    "***Embeddings***:\n",
    "\n",
    "Embeddings are the numerical representation of the text.\n",
    "\n",
    "***Different types of embeddings***:\n",
    "\n",
    "1. Frequency based:- Count Vectorizer, TF-IDF\n",
    "\n",
    "2. Prediction based:- Word2Vec\n",
    "\n",
    "***Feature Extraction ***\n",
    "\n",
    "**Term Frequency-Inverse Document Frequency**\n",
    "\n",
    "1.TF-IDF, short for term frequency–inverse document frequency, is a numeric measure that is use to score the importance of a word in a document based on how often did it appear in that document and a given collection of documents. \n",
    "\n",
    "2.The intuition for this measure is : If a word appears frequently in a document, then it should be important and we should give that word a high score. But if a word appears in too many other documents, it’s probably not a unique identifier, therefore we should assign a lower score to that word. \n",
    "\n",
    "3,The math formula for this measure :\n",
    "\n",
    "tfidf(t,d,D)=tf(t,d)×idf(t,D)\n",
    "\n",
    "Where t denotes the terms; d denotes each document; D denotes the collection of documents.\n",
    "\n",
    "Let us build the feature space using **TF-IDF**"
   ]
  },
  {
   "cell_type": "code",
   "execution_count": 31,
   "metadata": {
    "colab": {
     "base_uri": "https://localhost:8080/",
     "height": 34
    },
    "colab_type": "code",
    "id": "9Ujym2VT-juR",
    "outputId": "7e0c9e27-4b4f-48e5-dd52-e8dd66f6fb21"
   },
   "outputs": [
    {
     "data": {
      "text/plain": [
       "(31962, 1000)"
      ]
     },
     "execution_count": 31,
     "metadata": {},
     "output_type": "execute_result"
    }
   ],
   "source": [
    "tvec = TfidfVectorizer(stop_words=None, max_features=1000,min_df=2) #max_features=Max no. of words to be considered, min-df=Min frequency of word \n",
    "tfidf = tvec.fit_transform(data['cleaned_tweets'])\n",
    "tfidf.shape  #every document is represented with 1000 features"
   ]
  },
  {
   "cell_type": "markdown",
   "metadata": {
    "colab_type": "text",
    "id": "YnkSYSylGoS0"
   },
   "source": [
    "**Original Imbalance Dataset**"
   ]
  },
  {
   "cell_type": "code",
   "execution_count": 32,
   "metadata": {
    "colab": {},
    "colab_type": "code",
    "id": "ycXTZKRfCUD8"
   },
   "outputs": [],
   "source": [
    "y=np.array(data.label)\n",
    "x_tr,x_val,y_tr,y_val=train_test_split(tfidf,y,test_size=0.2,random_state=77,stratify=y) #Split data into training and validation data initially"
   ]
  },
  {
   "cell_type": "markdown",
   "metadata": {
    "colab_type": "text",
    "id": "9a4pEfpqkEte"
   },
   "source": [
    "***TF-IDF + Logistic Regression + Imbalanced dataset***"
   ]
  },
  {
   "cell_type": "code",
   "execution_count": 33,
   "metadata": {
    "colab": {
     "base_uri": "https://localhost:8080/",
     "height": 170
    },
    "colab_type": "code",
    "id": "7PDzaIUkBdf5",
    "outputId": "46c3e4f0-a14e-48c7-ba63-0a62db939ffd"
   },
   "outputs": [
    {
     "name": "stdout",
     "output_type": "stream",
     "text": [
      "              precision    recall  f1-score   support\n",
      "\n",
      "           0       0.95      1.00      0.97      5945\n",
      "           1       0.85      0.36      0.51       448\n",
      "\n",
      "    accuracy                           0.95      6393\n",
      "   macro avg       0.90      0.68      0.74      6393\n",
      "weighted avg       0.95      0.95      0.94      6393\n",
      "\n"
     ]
    }
   ],
   "source": [
    "lr = LogisticRegression()\n",
    "lr_fit =lr.fit(x_tr,y_tr)\n",
    "prediction = lr_fit.predict(x_val)\n",
    "print(classification_report(y_val,prediction))"
   ]
  },
  {
   "cell_type": "markdown",
   "metadata": {
    "colab_type": "text",
    "id": "pVaCOrpnzVKZ"
   },
   "source": [
    "Let us find **F1 score** at various thresholds to obtain the** optimal threshold** value"
   ]
  },
  {
   "cell_type": "code",
   "execution_count": 34,
   "metadata": {
    "colab": {
     "base_uri": "https://localhost:8080/",
     "height": 714
    },
    "colab_type": "code",
    "id": "1MqSNqamDi9s",
    "outputId": "f6983477-9187-40d2-c5b0-6ffc6b2c8999"
   },
   "outputs": [
    {
     "name": "stdout",
     "output_type": "stream",
     "text": [
      "F1 score at threshold 0.1 is 0.7130308905129139\n",
      "F1 score at threshold 0.11 is 0.7269904134483116\n",
      "F1 score at threshold 0.12 is 0.7352665144591886\n",
      "F1 score at threshold 0.13 is 0.7455091627777573\n",
      "F1 score at threshold 0.14 is 0.750290355084586\n",
      "F1 score at threshold 0.15 is 0.7523346502827065\n",
      "F1 score at threshold 0.16 is 0.7529108044807526\n",
      "F1 score at threshold 0.17 is 0.7594522197336764\n",
      "F1 score at threshold 0.18 is 0.7612400642651784\n",
      "F1 score at threshold 0.19 is 0.7691300504771409\n",
      "F1 score at threshold 0.2 is 0.7751990190195766\n",
      "F1 score at threshold 0.21 is 0.7745051355485777\n",
      "F1 score at threshold 0.22 is 0.777520450190937\n",
      "F1 score at threshold 0.23 is 0.7770174116859201\n",
      "F1 score at threshold 0.24 is 0.780774840392635\n",
      "F1 score at threshold 0.25 is 0.7795790505446368\n",
      "F1 score at threshold 0.26 is 0.7804959813417058\n",
      "F1 score at threshold 0.27 is 0.7762727314638246\n",
      "F1 score at threshold 0.28 is 0.7759149348849804\n",
      "F1 score at threshold 0.29 is 0.7773307728341452\n",
      "F1 score at threshold 0.3 is 0.7760023161936234\n",
      "F1 score at threshold 0.31 is 0.7773192794457926\n",
      "F1 score at threshold 0.32 is 0.7750808297631666\n",
      "F1 score at threshold 0.33 is 0.771935732843918\n",
      "F1 score at threshold 0.34 is 0.7701859155286221\n",
      "F1 score at threshold 0.35 is 0.7697000020013209\n",
      "F1 score at threshold 0.36 is 0.766672479206652\n",
      "F1 score at threshold 0.37 is 0.7654375343973583\n",
      "F1 score at threshold 0.38 is 0.7648148171938103\n",
      "F1 score at threshold 0.39 is 0.7620835458784576\n",
      "F1 score at threshold 0.4 is 0.7568540365475829\n",
      "F1 score at threshold 0.41 is 0.7530424874393835\n",
      "F1 score at threshold 0.42 is 0.7489698070624502\n",
      "F1 score at threshold 0.43 is 0.7504345987015901\n",
      "F1 score at threshold 0.44 is 0.7485776564999661\n",
      "F1 score at threshold 0.45 is 0.7491738263385963\n",
      "F1 score at threshold 0.46 is 0.7481678697123828\n",
      "F1 score at threshold 0.47 is 0.7492117787767874\n",
      "F1 score at threshold 0.48 is 0.7484779918545269\n",
      "F1 score at threshold 0.49 is 0.7437215586321069\n",
      "F1 score at threshold 0.5 is 0.7422022323562958\n"
     ]
    }
   ],
   "source": [
    "from sklearn import metrics\n",
    "pred_noemb_val_y  = lr_fit.predict_proba(x_val)\n",
    "for thresh in np.arange(0.1, 0.501, 0.01):\n",
    "    thresh = np.round(thresh, 2)\n",
    "    print(\"F1 score at threshold {0} is {1}\".format(thresh, metrics.f1_score(y_val, (pred_noemb_val_y[:,1]>thresh).astype(int),average='macro')))"
   ]
  },
  {
   "cell_type": "markdown",
   "metadata": {
    "colab_type": "text",
    "id": "8iAbXtCN8H-I"
   },
   "source": [
    "**Observation**:\n",
    "\n",
    "\n",
    "1.F1 score at threshold 0.26 out performs the F1 score at threshold 0.5.\n",
    "\n",
    "2.We achieve the maximum F1 score at threshold 0.26. Hence, Optimal threshold value would be 0.26.\n",
    "\n",
    "3.So, we can infer that thresold at 0.5 is not always the optimal one."
   ]
  },
  {
   "cell_type": "markdown",
   "metadata": {
    "colab_type": "text",
    "id": "MBKqB4jAI3Qp"
   },
   "source": [
    "Let us handle the class imbalance problem now using 2 techniques\n",
    "\n",
    "***Class Weights***\n",
    "\n",
    "We can overcome the class imbalance problem by increasing the importance to the minority class samples by assigning higher class weights to minory class.\n",
    "\n",
    "  ***TF-IDF + Logistic Regression + Auto Balanced Class Weights***\n",
    "\n",
    "scikit module automatically assigns the class weights depending upon the class distribution.\n",
    "\n",
    "Let us try with that initially.\n",
    "\n"
   ]
  },
  {
   "cell_type": "code",
   "execution_count": 35,
   "metadata": {
    "colab": {
     "base_uri": "https://localhost:8080/",
     "height": 170
    },
    "colab_type": "code",
    "id": "vVwZRdCEIpX3",
    "outputId": "83c75665-9502-4e2f-914d-4e32b7d10e5e",
    "scrolled": true
   },
   "outputs": [
    {
     "name": "stdout",
     "output_type": "stream",
     "text": [
      "              precision    recall  f1-score   support\n",
      "\n",
      "           0       0.98      0.88      0.93      5945\n",
      "           1       0.33      0.80      0.47       448\n",
      "\n",
      "    accuracy                           0.87      6393\n",
      "   macro avg       0.66      0.84      0.70      6393\n",
      "weighted avg       0.94      0.87      0.89      6393\n",
      "\n"
     ]
    }
   ],
   "source": [
    "lr = LogisticRegression(class_weight='balanced')\n",
    "\n",
    "# Fit..\n",
    "lr.fit(x_tr, y_tr)\n",
    "\n",
    "# Predict..\n",
    "y_pred = lr.predict(x_val)\n",
    "\n",
    "# Evaluate the model\n",
    "print(classification_report(y_val, y_pred))"
   ]
  },
  {
   "cell_type": "code",
   "execution_count": 36,
   "metadata": {
    "colab": {
     "base_uri": "https://localhost:8080/",
     "height": 714
    },
    "colab_type": "code",
    "id": "RKYyOeshD2_X",
    "outputId": "5cee35c1-1c4d-42a7-ccc0-c1d61f16f259"
   },
   "outputs": [
    {
     "name": "stdout",
     "output_type": "stream",
     "text": [
      "F1 score at threshold 0.1 is 0.41604238774073404\n",
      "F1 score at threshold 0.11 is 0.4312869119073658\n",
      "F1 score at threshold 0.12 is 0.4428971446244569\n",
      "F1 score at threshold 0.13 is 0.45458493187961785\n",
      "F1 score at threshold 0.14 is 0.4664461682429697\n",
      "F1 score at threshold 0.15 is 0.4757690757590949\n",
      "F1 score at threshold 0.16 is 0.4864770608601724\n",
      "F1 score at threshold 0.17 is 0.496202505342448\n",
      "F1 score at threshold 0.18 is 0.5049030381423677\n",
      "F1 score at threshold 0.19 is 0.5140011432434443\n",
      "F1 score at threshold 0.2 is 0.5224043769504177\n",
      "F1 score at threshold 0.21 is 0.5326633963216078\n",
      "F1 score at threshold 0.22 is 0.5406318529849479\n",
      "F1 score at threshold 0.23 is 0.5468989753684635\n",
      "F1 score at threshold 0.24 is 0.5533511185861651\n",
      "F1 score at threshold 0.25 is 0.5600036282159323\n",
      "F1 score at threshold 0.26 is 0.5652285137611233\n",
      "F1 score at threshold 0.27 is 0.5701568852288126\n",
      "F1 score at threshold 0.28 is 0.5759841612982057\n",
      "F1 score at threshold 0.29 is 0.5822695604708813\n",
      "F1 score at threshold 0.3 is 0.5879124433736644\n",
      "F1 score at threshold 0.31 is 0.593653798890964\n",
      "F1 score at threshold 0.32 is 0.5983488106959296\n",
      "F1 score at threshold 0.33 is 0.6048079670050011\n",
      "F1 score at threshold 0.34 is 0.6102056196012929\n",
      "F1 score at threshold 0.35 is 0.6148985999675562\n",
      "F1 score at threshold 0.36 is 0.6192620219384368\n",
      "F1 score at threshold 0.37 is 0.625521945397897\n",
      "F1 score at threshold 0.38 is 0.6293520103713516\n",
      "F1 score at threshold 0.39 is 0.632817772181881\n",
      "F1 score at threshold 0.4 is 0.6376660851552471\n",
      "F1 score at threshold 0.41 is 0.6400797785797243\n",
      "F1 score at threshold 0.42 is 0.6459929860653328\n",
      "F1 score at threshold 0.43 is 0.6530287932370736\n",
      "F1 score at threshold 0.44 is 0.6591371631872529\n",
      "F1 score at threshold 0.45 is 0.6616551765302773\n",
      "F1 score at threshold 0.46 is 0.6778840002721471\n",
      "F1 score at threshold 0.47 is 0.6798695960662878\n",
      "F1 score at threshold 0.48 is 0.6840418333432843\n",
      "F1 score at threshold 0.49 is 0.6926115932056526\n",
      "F1 score at threshold 0.5 is 0.6969102068444286\n"
     ]
    }
   ],
   "source": [
    "from sklearn import metrics\n",
    "pred_noemb_val_y  = lr.predict_proba(x_val)\n",
    "for thresh in np.arange(0.1, 0.501, 0.01):\n",
    "    thresh = np.round(thresh, 2)\n",
    "    print(\"F1 score at threshold {0} is {1}\".format(thresh, metrics.f1_score(y_val, (pred_noemb_val_y[:,1]>thresh).astype(int),average='macro')))"
   ]
  },
  {
   "cell_type": "markdown",
   "metadata": {
    "colab_type": "text",
    "id": "oG4ObYbN_tGF"
   },
   "source": [
    "***K Cross Fold Validation***:\n",
    "\n",
    "K-Fold Cross-Validation splits your data into k folds, use each fold as validation data and use rest of the data as training data and validate against testing data. Repeat the process k times. And Get the average performance.\n",
    "\n",
    "k-fold cross validation especially useful for small dataset since it maximizes both the validation and training data.\n",
    "\n",
    "***Stratified K Cross fold validation*** \n",
    "\n",
    "It preserves the proportion of class distribution same across all the folds so that each fold is good representative of the training data set.\n",
    "\n",
    " ***Grid Search CV***\n",
    "\n",
    "For every combination of parameters, run k Cross Fold Validation and mean of F1 score is considered to evaluate the best parameter set.\n",
    "\n",
    "***Tuning Class Weights ***\n",
    "\n",
    "We can also tune the class weights manually to find a better trade-off between false positives, false negatives. The F1 score is a metric that attempts to take that tradeoff.\n"
   ]
  },
  {
   "cell_type": "code",
   "execution_count": 37,
   "metadata": {
    "colab": {
     "base_uri": "https://localhost:8080/",
     "height": 395
    },
    "colab_type": "code",
    "id": "nKAQVvwtJLha",
    "outputId": "5399ea0b-f438-4a3d-8571-432dd5dbafe7"
   },
   "outputs": [
    {
     "name": "stdout",
     "output_type": "stream",
     "text": [
      "Best parameters : {'class_weight': {0: 0.14894736842105263, 1: 0.8510526315789474}}\n"
     ]
    },
    {
     "data": {
      "text/plain": [
       "<AxesSubplot:xlabel='weight'>"
      ]
     },
     "execution_count": 37,
     "metadata": {},
     "output_type": "execute_result"
    },
    {
     "data": {
      "image/png": "[encoded data removed]",
      "text/plain": [
       "<Figure size 432x288 with 1 Axes>"
      ]
     },
     "metadata": {},
     "output_type": "display_data"
    }
   ],
   "source": [
    "weights = np.linspace(0.05, 0.99, 20)\n",
    "\n",
    "kf = StratifiedKFold(n_splits = 3)\n",
    "\n",
    "gsc = GridSearchCV(\n",
    "    estimator=LogisticRegression(),\n",
    "    param_grid={\n",
    "        'class_weight': [{0: x, 1: 1.0-x} for x in weights]\n",
    "    },\n",
    "    scoring='f1',\n",
    "    cv=kf\n",
    ")\n",
    "grid_result = gsc.fit(tfidf, y)\n",
    "\n",
    "print(\"Best parameters : %s\" % grid_result.best_params_)\n",
    "\n",
    "# Plot the weights vs f1 score\n",
    "dataz = pd.DataFrame({ 'score': grid_result.cv_results_['mean_test_score'],\n",
    "                       'weight': weights })\n",
    "dataz.plot(x='weight')"
   ]
  },
  {
   "cell_type": "markdown",
   "metadata": {
    "colab_type": "text",
    "id": "yjGttk62loac"
   },
   "source": [
    "***TF-IDF + Logistic Regression + Optimal parameter set of Class Weights***\n",
    "\n",
    "Now we create a logistic regression with the optimum parameters we discovered above and plot results again. This version reseults in a more balanced tradeoff between false positives, false negatives."
   ]
  },
  {
   "cell_type": "code",
   "execution_count": 38,
   "metadata": {
    "colab": {
     "base_uri": "https://localhost:8080/",
     "height": 170
    },
    "colab_type": "code",
    "id": "zzfGMfUvJvI2",
    "outputId": "8630d998-e37d-4b1c-9869-f1a8e07159cf"
   },
   "outputs": [
    {
     "name": "stdout",
     "output_type": "stream",
     "text": [
      "              precision    recall  f1-score   support\n",
      "\n",
      "           0       0.97      0.97      0.97      5945\n",
      "           1       0.57      0.59      0.58       448\n",
      "\n",
      "    accuracy                           0.94      6393\n",
      "   macro avg       0.77      0.78      0.77      6393\n",
      "weighted avg       0.94      0.94      0.94      6393\n",
      "\n"
     ]
    }
   ],
   "source": [
    "lr = LogisticRegression(**grid_result.best_params_)\n",
    "\n",
    "# Fit..\n",
    "lr.fit(x_tr, y_tr)\n",
    "\n",
    "# Predict..\n",
    "y_pred = lr.predict(x_val)\n",
    "\n",
    "# Evaluate the model\n",
    "print(classification_report(y_val, y_pred))"
   ]
  },
  {
   "cell_type": "code",
   "execution_count": 39,
   "metadata": {
    "colab": {
     "base_uri": "https://localhost:8080/",
     "height": 714
    },
    "colab_type": "code",
    "id": "DW3pDVfEEBZx",
    "outputId": "bd925c1c-2f5a-403c-90ae-29ce8258098a"
   },
   "outputs": [
    {
     "name": "stdout",
     "output_type": "stream",
     "text": [
      "F1 score at threshold 0.1 is 0.35138313091750145\n",
      "F1 score at threshold 0.11 is 0.37691629986077263\n",
      "F1 score at threshold 0.12 is 0.40389201784514406\n",
      "F1 score at threshold 0.13 is 0.42776805749486535\n",
      "F1 score at threshold 0.14 is 0.4506052922671944\n",
      "F1 score at threshold 0.15 is 0.4690496731652216\n",
      "F1 score at threshold 0.16 is 0.4890441103347932\n",
      "F1 score at threshold 0.17 is 0.5069669621609586\n",
      "F1 score at threshold 0.18 is 0.524690340695031\n",
      "F1 score at threshold 0.19 is 0.5414141236409922\n",
      "F1 score at threshold 0.2 is 0.5593054216332061\n",
      "F1 score at threshold 0.21 is 0.5727586191360815\n",
      "F1 score at threshold 0.22 is 0.5844472522167221\n",
      "F1 score at threshold 0.23 is 0.5971845426138089\n",
      "F1 score at threshold 0.24 is 0.6077860328190553\n",
      "F1 score at threshold 0.25 is 0.6188441127469005\n",
      "F1 score at threshold 0.26 is 0.6318185698740111\n",
      "F1 score at threshold 0.27 is 0.6549612358801455\n",
      "F1 score at threshold 0.28 is 0.6633966335388901\n",
      "F1 score at threshold 0.29 is 0.673085083505613\n",
      "F1 score at threshold 0.3 is 0.683508334746225\n",
      "F1 score at threshold 0.31 is 0.6903417768534947\n",
      "F1 score at threshold 0.32 is 0.6959444880868584\n",
      "F1 score at threshold 0.33 is 0.7025482441457339\n",
      "F1 score at threshold 0.34 is 0.7077427329992161\n",
      "F1 score at threshold 0.35 is 0.7133131816354197\n",
      "F1 score at threshold 0.36 is 0.7210631719520104\n",
      "F1 score at threshold 0.37 is 0.7260947522805661\n",
      "F1 score at threshold 0.38 is 0.7302266045883561\n",
      "F1 score at threshold 0.39 is 0.7354072261561869\n",
      "F1 score at threshold 0.4 is 0.7375145414672137\n",
      "F1 score at threshold 0.41 is 0.7430423220896719\n",
      "F1 score at threshold 0.42 is 0.748008084698925\n",
      "F1 score at threshold 0.43 is 0.7514507018240777\n",
      "F1 score at threshold 0.44 is 0.7516803323450623\n",
      "F1 score at threshold 0.45 is 0.7533587451642134\n",
      "F1 score at threshold 0.46 is 0.7572120244825529\n",
      "F1 score at threshold 0.47 is 0.7625236231334938\n",
      "F1 score at threshold 0.48 is 0.7665315155768414\n",
      "F1 score at threshold 0.49 is 0.7725528445677119\n",
      "F1 score at threshold 0.5 is 0.7730418323688577\n"
     ]
    }
   ],
   "source": [
    "pred_noemb_val_y  = lr.predict_proba(x_val)\n",
    "for thresh in np.arange(0.1, 0.501, 0.01):\n",
    "  thresh = np.round(thresh, 2)\n",
    "  print(\"F1 score at threshold {0} is {1}\".format(thresh, metrics.f1_score(y_val, (pred_noemb_val_y[:,1]>thresh).astype(int),average='macro')))"
   ]
  },
  {
   "cell_type": "markdown",
   "metadata": {
    "colab_type": "text",
    "id": "lopCOV8K-PnS"
   },
   "source": [
    "**Observation**\n",
    "\n",
    "1.Auto balancing of scikit class weights resulted in poor results where as parameter tuning of class \n",
    "weights resulted in the better F1 score.\n",
    "\n",
    "2.We achieved a better F1 score compared to the model trained on imbalanced dataset."
   ]
  },
  {
   "cell_type": "markdown",
   "metadata": {
    "colab_type": "text",
    "id": "XL0AQszIGeQS"
   },
   "source": [
    "***OVER SAMPLING***\n",
    "\n",
    "Another way of handling class imbalance problem is to increase the no. of minority samples so that minority samples are equal in number as the majority samples.\n",
    "\n",
    "***Synthetic Minority Oversampling Technique***\n",
    "\n",
    "SMOTE is an over-sampling approach in which the minority class is over-sampled by creating “synthetic” examples rather than by over-sampling with replacement.\n",
    "\n",
    "***Math behind SMOTE ***:-\n",
    "\n",
    "1.Consider a feature vector randomly and look at its k nearest neighbors.\n",
    "\n",
    "2.Select one of the k nearest neighbors randomly and take the difference of feature vector and k nearest neighbor.\n",
    "\n",
    "3.The random number between (0,1) is generated and is mulitplied with difference and added to the feature vector which is chosen as reference."
   ]
  },
  {
   "cell_type": "markdown",
   "metadata": {
    "colab_type": "text",
    "id": "09QSR_9gm2sr"
   },
   "source": [
    "***TF-IDF+ Logistic Regression + SMOTE***"
   ]
  },
  {
   "cell_type": "code",
   "execution_count": 40,
   "metadata": {
    "colab": {
     "base_uri": "https://localhost:8080/",
     "height": 170
    },
    "colab_type": "code",
    "id": "f9WvJR9IBdaY",
    "outputId": "2fb584ca-62a8-4a18-c46e-c9e3aba007e7"
   },
   "outputs": [
    {
     "name": "stdout",
     "output_type": "stream",
     "text": [
      "              precision    recall  f1-score   support\n",
      "\n",
      "           0       0.98      0.88      0.93      5945\n",
      "           1       0.33      0.77      0.46       448\n",
      "\n",
      "    accuracy                           0.87      6393\n",
      "   macro avg       0.66      0.83      0.70      6393\n",
      "weighted avg       0.94      0.87      0.90      6393\n",
      "\n"
     ]
    }
   ],
   "source": [
    "pipe = make_pipeline(\n",
    "    SMOTE(random_state=777),\n",
    "    LogisticRegression()\n",
    ")\n",
    "\n",
    "# Fit..\n",
    "pipe.fit(x_tr, y_tr)\n",
    "\n",
    "# Predict..\n",
    "y_pred = pipe.predict(x_val)\n",
    "\n",
    "# Evaluate the model\n",
    "print(classification_report(y_val, y_pred))"
   ]
  },
  {
   "cell_type": "code",
   "execution_count": 41,
   "metadata": {
    "colab": {
     "base_uri": "https://localhost:8080/",
     "height": 714
    },
    "colab_type": "code",
    "id": "sRL4Kv9oElm0",
    "outputId": "9c651d0c-ad1d-4a74-a046-a65fd3db3da8"
   },
   "outputs": [
    {
     "name": "stdout",
     "output_type": "stream",
     "text": [
      "F1 score at threshold 0.1 is 0.47862064548399097\n",
      "F1 score at threshold 0.11 is 0.4895693080656351\n",
      "F1 score at threshold 0.12 is 0.49981369313735835\n",
      "F1 score at threshold 0.13 is 0.5105643636898753\n",
      "F1 score at threshold 0.14 is 0.5217453534935722\n",
      "F1 score at threshold 0.15 is 0.5309078747339617\n",
      "F1 score at threshold 0.16 is 0.5390825509578925\n",
      "F1 score at threshold 0.17 is 0.5479138609060563\n",
      "F1 score at threshold 0.18 is 0.5523263757462147\n",
      "F1 score at threshold 0.19 is 0.5605754124116261\n",
      "F1 score at threshold 0.2 is 0.5668600621872278\n",
      "F1 score at threshold 0.21 is 0.5725207286992184\n",
      "F1 score at threshold 0.22 is 0.5783715603336699\n",
      "F1 score at threshold 0.23 is 0.5869116235640074\n",
      "F1 score at threshold 0.24 is 0.5918822166841027\n",
      "F1 score at threshold 0.25 is 0.5960097722768849\n",
      "F1 score at threshold 0.26 is 0.6017743229364907\n",
      "F1 score at threshold 0.27 is 0.6063335497883965\n",
      "F1 score at threshold 0.28 is 0.6139233839853321\n",
      "F1 score at threshold 0.29 is 0.618141471528933\n",
      "F1 score at threshold 0.3 is 0.6225741451196425\n",
      "F1 score at threshold 0.31 is 0.6279397167931791\n",
      "F1 score at threshold 0.32 is 0.6340018538039329\n",
      "F1 score at threshold 0.33 is 0.6393198262584627\n",
      "F1 score at threshold 0.34 is 0.6432464317414899\n",
      "F1 score at threshold 0.35 is 0.6463483071181018\n",
      "F1 score at threshold 0.36 is 0.6497772125184613\n",
      "F1 score at threshold 0.37 is 0.6547252341130257\n",
      "F1 score at threshold 0.38 is 0.6587845480246315\n",
      "F1 score at threshold 0.39 is 0.6630893524780858\n",
      "F1 score at threshold 0.4 is 0.6658160603494024\n",
      "F1 score at threshold 0.41 is 0.6694426817353116\n",
      "F1 score at threshold 0.42 is 0.6728517898948801\n",
      "F1 score at threshold 0.43 is 0.6759162934468911\n",
      "F1 score at threshold 0.44 is 0.6780855220269899\n",
      "F1 score at threshold 0.45 is 0.6821830724119954\n",
      "F1 score at threshold 0.46 is 0.6833343152483207\n",
      "F1 score at threshold 0.47 is 0.6869689086828257\n",
      "F1 score at threshold 0.48 is 0.6875948657334418\n",
      "F1 score at threshold 0.49 is 0.6902077921098134\n",
      "F1 score at threshold 0.5 is 0.6956766908389895\n"
     ]
    }
   ],
   "source": [
    "from sklearn import metrics\n",
    "pred_noemb_val_y  = pipe.predict_proba(x_val)\n",
    "for thresh in np.arange(0.1, 0.501, 0.01):\n",
    "  thresh = np.round(thresh, 2)\n",
    "  print(\"F1 score at threshold {0} is {1}\".format(thresh, metrics.f1_score(y_val, (pred_noemb_val_y[:,1]>thresh).astype(int),average='macro')))"
   ]
  },
  {
   "cell_type": "markdown",
   "metadata": {
    "colab_type": "text",
    "id": "ycbvb5MFnALH"
   },
   "source": [
    "***Tuning SMOTE ratio using Grid Search CV***\n",
    "\n",
    "**SMOTE ratio** \n",
    "\n",
    "1.SMOTE ratio is defined as ratio of no. of minority samples to no. of majority samples\n",
    "\n",
    "2.SMOTE approach suffers a similar issue as the auto-balancing of weights by sklearn LogisticRegression. \n",
    "\n",
    "We can tune SMOTE re-sampling and achieve a similar effect...\n"
   ]
  },
  {
   "cell_type": "code",
   "execution_count": 42,
   "metadata": {
    "colab": {
     "base_uri": "https://localhost:8080/",
     "height": 395
    },
    "colab_type": "code",
    "id": "RyaJhugHBdXL",
    "outputId": "5294d0a2-900c-480a-dcdc-8d5574d483e8"
   },
   "outputs": [
    {
     "name": "stdout",
     "output_type": "stream",
     "text": [
      "Best parameters : {'smote__sampling_strategy': 0.225}\n"
     ]
    },
    {
     "data": {
      "text/plain": [
       "<AxesSubplot:xlabel='weight'>"
      ]
     },
     "execution_count": 42,
     "metadata": {},
     "output_type": "execute_result"
    },
    {
     "data": {
      "image/png": "[encoded data removed]",
      "text/plain": [
       "<Figure size 432x288 with 1 Axes>"
      ]
     },
     "metadata": {},
     "output_type": "display_data"
    }
   ],
   "source": [
    "pipe = make_pipeline(\n",
    "    SMOTE(),\n",
    "    LogisticRegression()\n",
    ")\n",
    "\n",
    "weights = np.linspace(0.1,0.6,13)\n",
    "\n",
    "kf = StratifiedKFold(n_splits = 3)\n",
    "\n",
    "gsc = GridSearchCV(\n",
    "    estimator=pipe,\n",
    "    param_grid={\n",
    "        #'smote__ratio': [{0: int(num_neg), 1: int(num_neg * w) } for w in weights]\n",
    "        'smote__sampling_strategy': weights\n",
    "    },\n",
    "    scoring='f1',\n",
    "    cv=kf\n",
    ")\n",
    "grid_result = gsc.fit(tfidf, y)\n",
    "\n",
    "print(\"Best parameters : %s\" % grid_result.best_params_)\n",
    "\n",
    "# Plot the weights vs f1 score\n",
    "dataz = pd.DataFrame({ 'score': grid_result.cv_results_['mean_test_score'],\n",
    "                       'weight': weights })\n",
    "dataz.plot(x='weight')"
   ]
  },
  {
   "cell_type": "code",
   "execution_count": 43,
   "metadata": {},
   "outputs": [
    {
     "data": {
      "text/plain": [
       "{'smote__sampling_strategy': 0.225}"
      ]
     },
     "execution_count": 43,
     "metadata": {},
     "output_type": "execute_result"
    }
   ],
   "source": [
    "grid_result.best_params_"
   ]
  },
  {
   "cell_type": "markdown",
   "metadata": {
    "colab_type": "text",
    "id": "v-yt4smUotj9"
   },
   "source": [
    "***TF-IDF + Logistic Regression + Optimal parameter set of SMOTE***\n",
    "\n",
    "Now we create a logistic regression with the optimum parameters we discovered above and plot results again. This version reseults in a more balanced tradeoff between false positives, false negatives."
   ]
  },
  {
   "cell_type": "code",
   "execution_count": 44,
   "metadata": {
    "colab": {
     "base_uri": "https://localhost:8080/",
     "height": 170
    },
    "colab_type": "code",
    "id": "cXjYPLRzBdTU",
    "outputId": "ab7075c3-d960-45dd-88c0-c1aac03012a7"
   },
   "outputs": [
    {
     "name": "stdout",
     "output_type": "stream",
     "text": [
      "              precision    recall  f1-score   support\n",
      "\n",
      "           0       0.97      0.98      0.97      5945\n",
      "           1       0.65      0.54      0.59       448\n",
      "\n",
      "    accuracy                           0.95      6393\n",
      "   macro avg       0.81      0.76      0.78      6393\n",
      "weighted avg       0.94      0.95      0.94      6393\n",
      "\n"
     ]
    }
   ],
   "source": [
    "pipe = make_pipeline(\n",
    "    SMOTE(random_state=777,sampling_strategy=grid_result.best_params_['smote__sampling_strategy']),\n",
    "    LogisticRegression()\n",
    ")\n",
    "\n",
    "# Fit..\n",
    "pipe.fit(x_tr, y_tr)\n",
    "\n",
    "# Predict..\n",
    "y_pred = pipe.predict(x_val)\n",
    "\n",
    "# Evaluate the model\n",
    "print(classification_report(y_val, y_pred))"
   ]
  },
  {
   "cell_type": "code",
   "execution_count": 45,
   "metadata": {
    "colab": {
     "base_uri": "https://localhost:8080/",
     "height": 714
    },
    "colab_type": "code",
    "id": "yato52O99vBK",
    "outputId": "ec6d855d-3768-47a0-cce2-dc6eb7d41867"
   },
   "outputs": [
    {
     "name": "stdout",
     "output_type": "stream",
     "text": [
      "F1 score at threshold 0.1 is 0.5743121569395028\n",
      "F1 score at threshold 0.11 is 0.5900299892491371\n",
      "F1 score at threshold 0.12 is 0.6037618905669399\n",
      "F1 score at threshold 0.13 is 0.6159787524852169\n",
      "F1 score at threshold 0.14 is 0.6283679116536045\n",
      "F1 score at threshold 0.15 is 0.6351871102832505\n",
      "F1 score at threshold 0.16 is 0.6459076104693013\n",
      "F1 score at threshold 0.17 is 0.6539951865651262\n",
      "F1 score at threshold 0.18 is 0.6617564727992304\n",
      "F1 score at threshold 0.19 is 0.6700599394852554\n",
      "F1 score at threshold 0.2 is 0.6779677429293692\n",
      "F1 score at threshold 0.21 is 0.6844244802371287\n",
      "F1 score at threshold 0.22 is 0.6901389713889714\n",
      "F1 score at threshold 0.23 is 0.6948201946614264\n",
      "F1 score at threshold 0.24 is 0.6991724087804256\n",
      "F1 score at threshold 0.25 is 0.7037145625822505\n",
      "F1 score at threshold 0.26 is 0.7078556735526327\n",
      "F1 score at threshold 0.27 is 0.7109638179627686\n",
      "F1 score at threshold 0.28 is 0.7157519597765796\n",
      "F1 score at threshold 0.29 is 0.7208483906829719\n",
      "F1 score at threshold 0.3 is 0.7253845008362034\n",
      "F1 score at threshold 0.31 is 0.7260142857142857\n",
      "F1 score at threshold 0.32 is 0.7286206026982727\n",
      "F1 score at threshold 0.33 is 0.7320045245091312\n",
      "F1 score at threshold 0.34 is 0.7359216933796453\n",
      "F1 score at threshold 0.35 is 0.7348227017356365\n",
      "F1 score at threshold 0.36 is 0.7353250033628767\n",
      "F1 score at threshold 0.37 is 0.737609787178725\n",
      "F1 score at threshold 0.38 is 0.7653834546342386\n",
      "F1 score at threshold 0.39 is 0.7650683693478009\n",
      "F1 score at threshold 0.4 is 0.7658646488926117\n",
      "F1 score at threshold 0.41 is 0.7635615605204484\n",
      "F1 score at threshold 0.42 is 0.7676302067844326\n",
      "F1 score at threshold 0.43 is 0.7725396500032451\n",
      "F1 score at threshold 0.44 is 0.7734313792762828\n",
      "F1 score at threshold 0.45 is 0.7754546981659363\n",
      "F1 score at threshold 0.46 is 0.7777143733701488\n",
      "F1 score at threshold 0.47 is 0.7747991442706719\n",
      "F1 score at threshold 0.48 is 0.7746902360502276\n",
      "F1 score at threshold 0.49 is 0.777491277802556\n",
      "F1 score at threshold 0.5 is 0.779378139549325\n"
     ]
    }
   ],
   "source": [
    "from sklearn import metrics\n",
    "pred_noemb_val_y  = pipe.predict_proba(x_val)\n",
    "for thresh in np.arange(0.1, 0.501, 0.01):\n",
    "  thresh = np.round(thresh, 2)\n",
    "  print(\"F1 score at threshold {0} is {1}\".format(thresh, metrics.f1_score(y_val, (pred_noemb_val_y[:,1]>thresh).astype(int),average='macro')))"
   ]
  },
  {
   "cell_type": "markdown",
   "metadata": {
    "colab_type": "text",
    "id": "VEr4_qS8BFoF"
   },
   "source": [
    "**Observation**\n",
    "\n",
    "We have achieved almost similar results in case of **class weights** as well as **SMOTE**\n"
   ]
  },
  {
   "cell_type": "markdown",
   "metadata": {
    "colab_type": "text",
    "id": "1A_PI31ypdWL"
   },
   "source": [
    "***TF-IDF + Random Forests + Original Imbalanced dataset***\n",
    "\n",
    "Let us build the random forest model on the TF-IDF features."
   ]
  },
  {
   "cell_type": "code",
   "execution_count": 46,
   "metadata": {
    "colab": {
     "base_uri": "https://localhost:8080/",
     "height": 170
    },
    "colab_type": "code",
    "id": "7COALaOEWT_B",
    "outputId": "ebb96b9f-b9a7-47a9-fe6a-8a208dfcbdbe"
   },
   "outputs": [
    {
     "name": "stdout",
     "output_type": "stream",
     "text": [
      "              precision    recall  f1-score   support\n",
      "\n",
      "           0       0.97      0.99      0.98      5945\n",
      "           1       0.80      0.52      0.63       448\n",
      "\n",
      "    accuracy                           0.96      6393\n",
      "   macro avg       0.88      0.76      0.80      6393\n",
      "weighted avg       0.95      0.96      0.95      6393\n",
      "\n"
     ]
    }
   ],
   "source": [
    "x_tr,x_val,y_tr,y_val=train_test_split(tfidf,y,test_size=0.2,random_state=77,stratify=y) #Split data into training and validation data initially\n",
    "\n",
    "rf=RandomForestClassifier()\n",
    "\n",
    "# Fit..\n",
    "rf.fit(x_tr, y_tr)\n",
    "\n",
    "# Predict..\n",
    "y_pred = rf.predict(x_val)\n",
    "\n",
    "# Evaluate the model\n",
    "print(classification_report(y_val, y_pred))"
   ]
  },
  {
   "cell_type": "markdown",
   "metadata": {
    "colab_type": "text",
    "id": "K2EXXrIspzoV"
   },
   "source": [
    "***TF-IDF + Random Forests + Auto Balanced Class Weights***\n",
    "\n",
    "Scikit module automatically assigns the class weights depending upon the class distribution. Let us try with that initially"
   ]
  },
  {
   "cell_type": "code",
   "execution_count": 47,
   "metadata": {
    "colab": {
     "base_uri": "https://localhost:8080/",
     "height": 170
    },
    "colab_type": "code",
    "id": "ek26ebmNcCxd",
    "outputId": "a098fc70-54c0-4f39-d946-076e7968259c"
   },
   "outputs": [
    {
     "name": "stdout",
     "output_type": "stream",
     "text": [
      "              precision    recall  f1-score   support\n",
      "\n",
      "           0       0.97      0.96      0.96      5945\n",
      "           1       0.52      0.63      0.57       448\n",
      "\n",
      "    accuracy                           0.93      6393\n",
      "   macro avg       0.75      0.79      0.77      6393\n",
      "weighted avg       0.94      0.93      0.94      6393\n",
      "\n"
     ]
    }
   ],
   "source": [
    "rf=RandomForestClassifier(class_weight='balanced')\n",
    "\n",
    "# Fit..\n",
    "rf.fit(x_tr, y_tr)\n",
    "\n",
    "# Predict..\n",
    "y_pred = rf.predict(x_val)\n",
    "\n",
    "# Evaluate the model\n",
    "print(classification_report(y_val, y_pred))"
   ]
  },
  {
   "cell_type": "markdown",
   "metadata": {
    "colab_type": "text",
    "id": "88L4-FcpqxRs"
   },
   "source": [
    "***Tuning Class Weights***\n",
    "\n",
    "We can also tune the class weights manually to find a better trade-off between false positives, false negatives. The F1 score is a metric that attempts to take that tradeoff.\n",
    "\n",
    "Below we explore the effect of weighting on F1 score to figure out the optimum."
   ]
  },
  {
   "cell_type": "code",
   "execution_count": 48,
   "metadata": {
    "colab": {
     "base_uri": "https://localhost:8080/",
     "height": 395
    },
    "colab_type": "code",
    "id": "g6BIp59cWT7F",
    "outputId": "b3353fad-8728-4e41-cb52-495e1b4201a9"
   },
   "outputs": [
    {
     "name": "stdout",
     "output_type": "stream",
     "text": [
      "Best parameters : {'class_weight': {0: 0.14894736842105263, 1: 0.8510526315789474}}\n"
     ]
    },
    {
     "data": {
      "text/plain": [
       "<AxesSubplot:xlabel='weight'>"
      ]
     },
     "execution_count": 48,
     "metadata": {},
     "output_type": "execute_result"
    },
    {
     "data": {
      "image/png": "[encoded data removed]",
      "text/plain": [
       "<Figure size 432x288 with 1 Axes>"
      ]
     },
     "metadata": {},
     "output_type": "display_data"
    }
   ],
   "source": [
    "weights = np.linspace(0.05, 0.99, 20)\n",
    "\n",
    "kf = StratifiedKFold(n_splits = 3)\n",
    "\n",
    "gsc = GridSearchCV(\n",
    "    estimator=RandomForestClassifier(),\n",
    "    param_grid={\n",
    "        'class_weight': [{0: x, 1: 1.0-x} for x in weights]\n",
    "    },\n",
    "    scoring='f1',\n",
    "    cv=kf\n",
    ")\n",
    "grid_result = gsc.fit(tfidf, y)\n",
    "\n",
    "print(\"Best parameters : %s\" % grid_result.best_params_)\n",
    "\n",
    "# Plot the weights vs f1 score\n",
    "dataz = pd.DataFrame({ 'score': grid_result.cv_results_['mean_test_score'],\n",
    "                       'weight': weights })\n",
    "dataz.plot(x='weight')"
   ]
  },
  {
   "cell_type": "markdown",
   "metadata": {
    "colab_type": "text",
    "id": "v9zj8JgBrFOT"
   },
   "source": [
    "***TF-IDF + Random Forests + Optimal set of Class Weights***"
   ]
  },
  {
   "cell_type": "code",
   "execution_count": 49,
   "metadata": {
    "colab": {
     "base_uri": "https://localhost:8080/",
     "height": 170
    },
    "colab_type": "code",
    "id": "fw79PSrdBdQX",
    "outputId": "15075fd8-1884-46e8-df03-f7dfbfa57d3a"
   },
   "outputs": [
    {
     "name": "stdout",
     "output_type": "stream",
     "text": [
      "              precision    recall  f1-score   support\n",
      "\n",
      "           0       0.97      0.98      0.97      5945\n",
      "           1       0.70      0.58      0.63       448\n",
      "\n",
      "    accuracy                           0.95      6393\n",
      "   macro avg       0.83      0.78      0.80      6393\n",
      "weighted avg       0.95      0.95      0.95      6393\n",
      "\n"
     ]
    }
   ],
   "source": [
    "rf = RandomForestClassifier(**grid_result.best_params_)\n",
    "\n",
    "# Fit..\n",
    "rf.fit(x_tr, y_tr)\n",
    "\n",
    "# Predict..\n",
    "y_pred = rf.predict(x_val)\n",
    "\n",
    "# Evaluate the model\n",
    "print(classification_report(y_val, y_pred))"
   ]
  },
  {
   "cell_type": "markdown",
   "metadata": {
    "colab_type": "text",
    "id": "T8tKIVAcCGPB"
   },
   "source": [
    "**Observation**\n",
    "\n",
    "1.We achieved better F1 score compared to the model trained on imbalanced dataset"
   ]
  },
  {
   "cell_type": "markdown",
   "metadata": {
    "colab_type": "text",
    "id": "JEFKWksqtiGl"
   },
   "source": [
    "***TF-IDF + Random Forests + SMOTE ***"
   ]
  },
  {
   "cell_type": "code",
   "execution_count": 50,
   "metadata": {
    "colab": {
     "base_uri": "https://localhost:8080/",
     "height": 170
    },
    "colab_type": "code",
    "id": "_wZAyxNj-jrC",
    "outputId": "3d6fc66d-a547-4483-cb29-246e846a8100"
   },
   "outputs": [
    {
     "name": "stdout",
     "output_type": "stream",
     "text": [
      "              precision    recall  f1-score   support\n",
      "\n",
      "           0       0.98      0.93      0.95      5945\n",
      "           1       0.43      0.69      0.53       448\n",
      "\n",
      "    accuracy                           0.91      6393\n",
      "   macro avg       0.70      0.81      0.74      6393\n",
      "weighted avg       0.94      0.91      0.92      6393\n",
      "\n"
     ]
    }
   ],
   "source": [
    "pipe = make_pipeline(\n",
    "    SMOTE(random_state=777),\n",
    "    RandomForestClassifier()\n",
    ")\n",
    "\n",
    "# Fit..\n",
    "pipe.fit(x_tr, y_tr)\n",
    "\n",
    "# Predict..\n",
    "y_pred = pipe.predict(x_val)\n",
    "\n",
    "# Evaluate the model\n",
    "print(classification_report(y_val, y_pred))"
   ]
  },
  {
   "cell_type": "markdown",
   "metadata": {
    "colab_type": "text",
    "id": "9hPdmx5Wtpfw"
   },
   "source": [
    "***Tuning SMOTE ratio using GridSearchCV***"
   ]
  },
  {
   "cell_type": "code",
   "execution_count": 51,
   "metadata": {
    "colab": {
     "base_uri": "https://localhost:8080/",
     "height": 395
    },
    "colab_type": "code",
    "id": "2_nfnJ4Zqlj_",
    "outputId": "5081ad5c-69c3-435f-e2b4-621149c7a910"
   },
   "outputs": [
    {
     "name": "stdout",
     "output_type": "stream",
     "text": [
      "Best parameters : {'smote__sampling_strategy': 0.18571428571428572}\n"
     ]
    },
    {
     "data": {
      "text/plain": [
       "<AxesSubplot:xlabel='weight'>"
      ]
     },
     "execution_count": 51,
     "metadata": {},
     "output_type": "execute_result"
    },
    {
     "data": {
      "image/png": "[encoded data removed]",
      "text/plain": [
       "<Figure size 432x288 with 1 Axes>"
      ]
     },
     "metadata": {},
     "output_type": "display_data"
    }
   ],
   "source": [
    "pipe = make_pipeline(\n",
    "    SMOTE(),\n",
    "    RandomForestClassifier()\n",
    ")\n",
    "\n",
    "kf = StratifiedKFold(n_splits = 3)\n",
    "\n",
    "\n",
    "weights = np.linspace(0.1, 0.5, 15)\n",
    "\n",
    "gsc = GridSearchCV(\n",
    "    estimator=pipe,\n",
    "    param_grid={\n",
    "        #'smote__ratio': [{0: int(num_neg), 1: int(num_neg * w) } for w in weights]\n",
    "        'smote__sampling_strategy': weights\n",
    "    },\n",
    "    scoring='f1',\n",
    "    cv=kf\n",
    ")\n",
    "grid_result = gsc.fit(tfidf, y)\n",
    "\n",
    "print(\"Best parameters : %s\" % grid_result.best_params_)\n",
    "\n",
    "# Plot the weights vs f1 score\n",
    "dataz = pd.DataFrame({ 'score': grid_result.cv_results_['mean_test_score'],\n",
    "                       'weight': weights })\n",
    "dataz.plot(x='weight')"
   ]
  },
  {
   "cell_type": "markdown",
   "metadata": {
    "colab_type": "text",
    "id": "O8EHGE0dKVKd"
   },
   "source": [
    "***TF-IDF + Random Forests + Optimal set of SMOTE ratio ***"
   ]
  },
  {
   "cell_type": "code",
   "execution_count": 52,
   "metadata": {
    "colab": {
     "base_uri": "https://localhost:8080/",
     "height": 170
    },
    "colab_type": "code",
    "id": "ifuyosopcl2V",
    "outputId": "8bc9dc95-8aff-495a-dad8-f6c1596a0cb8"
   },
   "outputs": [
    {
     "name": "stdout",
     "output_type": "stream",
     "text": [
      "              precision    recall  f1-score   support\n",
      "\n",
      "           0       0.97      0.98      0.97      5945\n",
      "           1       0.67      0.60      0.63       448\n",
      "\n",
      "    accuracy                           0.95      6393\n",
      "   macro avg       0.82      0.79      0.80      6393\n",
      "weighted avg       0.95      0.95      0.95      6393\n",
      "\n"
     ]
    }
   ],
   "source": [
    "pipe = make_pipeline(\n",
    "    SMOTE(random_state=777,sampling_strategy=0.2142857142857143),\n",
    "    RandomForestClassifier()\n",
    ")\n",
    "\n",
    "# Fit..\n",
    "pipe.fit(x_tr, y_tr)\n",
    "\n",
    "# Predict..\n",
    "y_pred = pipe.predict(x_val)\n",
    "\n",
    "# Evaluate the model\n",
    "\n",
    "print(classification_report(y_val, y_pred))"
   ]
  },
  {
   "cell_type": "markdown",
   "metadata": {
    "colab_type": "text",
    "id": "hWnlBXbKDOen"
   },
   "source": [
    "**Observation**\n",
    "\n",
    "1.We achieved better F1 score than the model with optimal Class Weights."
   ]
  },
  {
   "cell_type": "markdown",
   "metadata": {
    "colab_type": "text",
    "id": "7xkdkmbKdUFW"
   },
   "source": [
    "***Drawbacks of Count based embeddings***:-\n",
    "\n",
    "1.Doesn't take context into consideration\n",
    "\n",
    "2.That's why, we move on to Prediction based embeddings where the embeddings are learnt based on the context of the words in the sentence.\n",
    "\n",
    "***Word2Vec***:-\n",
    "\n",
    "1.The main idea of Word2Vec is \"Similar words appering in the similar context tend to have similar \n",
    "embeddings\".\n",
    "\n",
    "Lets us build Word2Vec embeddings!\n"
   ]
  },
  {
   "cell_type": "code",
   "execution_count": 53,
   "metadata": {
    "colab": {
     "base_uri": "https://localhost:8080/",
     "height": 1309
    },
    "colab_type": "code",
    "id": "9HmkVf3P7V9r",
    "outputId": "bf0d8613-de40-4172-b9a5-0bfecc7e7aab"
   },
   "outputs": [
    {
     "name": "stdout",
     "output_type": "stream",
     "text": [
      "Word2Vec(vocab=33338, size=300, alpha=0.025)\n",
      "[ 0.45006838 -0.4432207   0.07615612 -0.42618516  0.21594201  0.2784516\n",
      " -0.14899252 -0.29531208  0.6358899  -0.8878404  -0.53748447  0.51354265\n",
      "  1.4990027  -0.35635728 -1.2492019  -0.48827764  0.3620684  -0.6039067\n",
      " -0.1875879  -0.45663553 -0.72334886  0.23899165  0.5277979   0.6311914\n",
      " -0.43542823  0.09832072 -0.46540317  0.9026094   0.4974709   0.22475277\n",
      " -0.9397447  -0.3518961   0.23986575  0.260838    0.29799494  0.48570183\n",
      " -0.02521438  0.45929936 -0.19035582  0.06972714  0.42723984 -0.10813859\n",
      " -0.189686    0.5452552  -1.3672103  -0.37747595  1.31377    -0.07746209\n",
      " -0.23446383 -0.3622417  -0.2311416  -0.3845899  -0.3254561   0.5676117\n",
      " -0.4179477  -0.23820093 -0.30813074 -0.22941358  1.0125966   0.21095303\n",
      "  0.16275516  0.21910824  0.20620313  0.17218243  0.6814676  -0.69191855\n",
      " -0.17351821  0.49784288 -0.2917579   0.61651963 -0.76820445 -0.03373585\n",
      "  0.17056595  0.12562421  0.38416654  0.01890963  0.5949691  -0.4031507\n",
      "  0.15685527  0.30952838  0.32963973 -0.67963076 -0.44680643  0.42794174\n",
      " -0.34710702  0.2775697   0.34524018  0.9828624   0.541895    0.00374\n",
      "  0.10700572 -0.28850305  0.0264251   1.0318962   0.99141085  0.49277857\n",
      " -0.10637333  0.5027879   0.6602253  -0.7489756   0.6667629  -0.6551064\n",
      " -0.54992235  0.21966098  0.5055178  -0.04285731 -0.10642687  0.76364875\n",
      "  0.9282648  -1.1013173  -0.637389   -0.06629674 -0.09422906  0.48337764\n",
      " -0.12612201 -0.22817743 -0.5618121   0.01745941  0.16064197 -0.20812584\n",
      "  0.20177488  0.5861617  -0.27867547  0.30007732 -0.25007382 -0.30053803\n",
      "  0.06949165 -0.15806724 -0.5827053  -0.38750842 -0.03565509  0.03111748\n",
      "  0.24760206 -0.39130628 -0.16161118 -0.23847342 -0.720561   -0.72496325\n",
      " -0.5202179   0.19222865  0.87067336  0.40780526 -0.14947905 -0.06066684\n",
      " -0.46341887  0.6069096  -0.8147016   0.3236842  -0.11333099  0.13577251\n",
      "  0.3626088  -0.08406837  0.51792735 -0.43604127 -0.23488882 -0.33398676\n",
      "  0.48780343  1.0268523   0.22166327 -1.1141514   0.2904816   0.1598309\n",
      "  1.0721649   0.2995088  -0.9337518   0.07660309  0.956827    0.26616976\n",
      " -0.30164787  0.19996804 -0.5596399   0.28809124 -0.30833533 -0.44918042\n",
      " -0.10232465 -0.5719394   0.03600352  0.69282955 -0.26074803 -0.3788885\n",
      "  0.16943772  0.28378472  0.02529751  0.14845279 -0.40286127  0.08866508\n",
      " -0.27857217 -0.11828199 -0.63344026  0.16026644  0.53491014 -0.53005034\n",
      " -0.40117422  0.38001382  0.44891584  0.52432734  0.03688662 -0.9052235\n",
      "  0.11343883  0.19476637  0.11351041 -0.159798   -0.00387605 -0.39649493\n",
      "  0.8777006   0.4702394  -0.45690486  0.5447211  -0.7060347   0.12319066\n",
      "  0.10882615  0.06474578 -0.4484036   0.96315753 -0.58662564  0.607\n",
      " -0.42535678 -0.4948219  -0.44874308  0.153915   -0.12757346  0.3360203\n",
      " -0.23177178 -0.24806643 -0.05072228  1.0728918   0.6420586   0.3750084\n",
      "  0.10083055 -0.029948    0.01917093  0.29696968  0.7966144   0.21805808\n",
      " -0.12224782 -0.13671893 -0.57998997 -0.07973512 -0.21115035 -0.09501815\n",
      " -0.01490986  0.918947    0.19683151  0.45977196 -0.8193118  -0.02166912\n",
      " -1.0419409  -0.01777977  0.27197015 -0.310844   -0.18688875  0.100178\n",
      " -0.85525     0.6572382  -0.19065477 -0.5754154  -0.03583639 -0.08740288\n",
      " -0.07129673  0.2027737  -0.4040855   0.09010576  0.00890984  0.01953354\n",
      "  0.43276283 -0.22477916  0.8577489   1.1783383  -1.1372639   0.87198025\n",
      " -0.5866909  -0.6082396  -0.6109159   1.3622369   0.48694056 -0.74903643\n",
      " -0.44446614 -0.85614115  0.00681279  0.34543052 -0.19241574  0.9139121\n",
      "  0.88512826  0.10711274  0.69553787 -0.22809336  0.4031509   0.6697194\n",
      "  0.05094586 -0.08104797  0.18233371 -0.86140734  1.1542964  -0.53571486\n",
      "  1.0741627  -0.75661176 -0.32741326  0.6210975  -0.5587809   0.1857421 ]\n"
     ]
    }
   ],
   "source": [
    "from gensim.models import Word2Vec\n",
    "sentences = data['cleaned_tweets'].apply(lambda x: x.split()) # tokenizing\n",
    "\n",
    "model = Word2Vec(sentences,min_count=1,sg=0,window=3,size=300) #sg=type of model,window=Context window, size=No. of features\n",
    "print(model)\n",
    "# summarize vocabulary\n",
    "words = list(model.wv.vocab)\n",
    "# access vector for one word\n",
    "print(model['love'])"
   ]
  },
  {
   "cell_type": "code",
   "execution_count": 54,
   "metadata": {
    "colab": {
     "base_uri": "https://localhost:8080/",
     "height": 54
    },
    "colab_type": "code",
    "id": "Uvb9ecSfE1Ax",
    "outputId": "d5723245-9abc-43ff-92d8-b716ec311a9c"
   },
   "outputs": [
    {
     "name": "stdout",
     "output_type": "stream",
     "text": [
      "[('family', 0.9943386912345886), ('filled', 0.9920394420623779), ('liveinthemoment', 0.9853564500808716), ('jasper', 0.9842386841773987), ('fianc', 0.9824981093406677), ('dreamteam', 0.9816739559173584), ('dresser', 0.981099545955658), ('tommorow', 0.9803510904312134), ('workday', 0.9797070026397705), ('babyboy', 0.9795397520065308)]\n"
     ]
    }
   ],
   "source": [
    "print(model.most_similar('love')) #Most similar words"
   ]
  },
  {
   "cell_type": "code",
   "execution_count": 55,
   "metadata": {
    "colab": {
     "base_uri": "https://localhost:8080/",
     "height": 34
    },
    "colab_type": "code",
    "id": "XiiTVOjscly5",
    "outputId": "1a78d699-c14a-4531-e6c1-ee509b0998c2"
   },
   "outputs": [
    {
     "data": {
      "text/plain": [
       "(31962, 300)"
      ]
     },
     "execution_count": 55,
     "metadata": {},
     "output_type": "execute_result"
    }
   ],
   "source": [
    "def word_vector(tokens, size):\n",
    "    vec = np.zeros(size).reshape((1, size))\n",
    "    count = 0.\n",
    "    for word in tokens:\n",
    "        try:\n",
    "            vec += model[word].reshape((1, size)) #Sum of embedddings of all words in sentence\n",
    "            count += 1.\n",
    "        except KeyError: # when the token is not in vocabulary\n",
    "                         \n",
    "            continue\n",
    "    if count != 0:\n",
    "        vec /= count #Average of embeddings \n",
    "    return vec\n",
    "\n",
    "wordvec_arrays = np.zeros((len(sentences),300)) #Intializing array with zeroes\n",
    "\n",
    "for i in range(len(sentences)):\n",
    "    wordvec_arrays[i,:] = word_vector(sentences[i],300)\n",
    "    \n",
    "word2vec = pd.DataFrame(wordvec_arrays)\n",
    "word2vec.shape"
   ]
  },
  {
   "cell_type": "markdown",
   "metadata": {
    "colab_type": "text",
    "id": "JQMFqxnbFnVi"
   },
   "source": [
    "***Word2Vec + Random Forests + Original Imbalanced dataset***"
   ]
  },
  {
   "cell_type": "code",
   "execution_count": 56,
   "metadata": {
    "colab": {
     "base_uri": "https://localhost:8080/",
     "height": 170
    },
    "colab_type": "code",
    "id": "dpasueugclvo",
    "outputId": "a2c03484-9deb-4a5e-f77a-1ee4c2bf189d"
   },
   "outputs": [
    {
     "name": "stdout",
     "output_type": "stream",
     "text": [
      "              precision    recall  f1-score   support\n",
      "\n",
      "           0       0.96      0.99      0.98      5945\n",
      "           1       0.78      0.51      0.62       448\n",
      "\n",
      "    accuracy                           0.96      6393\n",
      "   macro avg       0.87      0.75      0.80      6393\n",
      "weighted avg       0.95      0.96      0.95      6393\n",
      "\n"
     ]
    }
   ],
   "source": [
    "rf = RandomForestClassifier()\n",
    "rf_fit =rf.fit(x_tr,y_tr)\n",
    "prediction = rf_fit.predict(x_val)\n",
    "print(classification_report(y_val,prediction))"
   ]
  },
  {
   "cell_type": "markdown",
   "metadata": {
    "colab_type": "text",
    "id": "dDdCdVWiFy1f"
   },
   "source": [
    "***Word2Vec + Parameter tuning of SMOTE ratio ***"
   ]
  },
  {
   "cell_type": "code",
   "execution_count": 57,
   "metadata": {
    "colab": {
     "base_uri": "https://localhost:8080/",
     "height": 398
    },
    "colab_type": "code",
    "id": "55aGdWlFB9At",
    "outputId": "49ce5b58-315e-4753-f26d-72c8feffb3fd"
   },
   "outputs": [
    {
     "name": "stdout",
     "output_type": "stream",
     "text": [
      "Best parameters : {'smote__sampling_strategy': 0.5571428571428572}\n"
     ]
    },
    {
     "data": {
      "text/plain": [
       "<AxesSubplot:xlabel='weight'>"
      ]
     },
     "execution_count": 57,
     "metadata": {},
     "output_type": "execute_result"
    },
    {
     "data": {
      "image/png": "[encoded data removed]",
      "text/plain": [
       "<Figure size 432x288 with 1 Axes>"
      ]
     },
     "metadata": {},
     "output_type": "display_data"
    }
   ],
   "source": [
    "pipe = make_pipeline(\n",
    "    SMOTE(),\n",
    "    RandomForestClassifier(n_estimators=25)\n",
    ")\n",
    "\n",
    "kf = StratifiedKFold(n_splits = 3)\n",
    "\n",
    "weights = np.linspace(0.3,0.7,15)\n",
    "\n",
    "gsc = GridSearchCV(\n",
    "    estimator=pipe,\n",
    "    param_grid={\n",
    "        'smote__sampling_strategy': weights\n",
    "    },\n",
    "    scoring='f1',\n",
    "    cv=kf\n",
    ")\n",
    "grid_result = gsc.fit(word2vec, y)\n",
    "\n",
    "print(\"Best parameters : %s\" % grid_result.best_params_)\n",
    "\n",
    "# Plot the weights vs f1 score\n",
    "dataz = pd.DataFrame({ 'score': grid_result.cv_results_['mean_test_score'],\n",
    "                       'weight': weights })\n",
    "dataz.plot(x='weight')"
   ]
  },
  {
   "cell_type": "markdown",
   "metadata": {
    "colab_type": "text",
    "id": "jJJbIDh6I1N6"
   },
   "source": [
    "***Word2Vec + Random Forests + Optimal parameter set of SMOTE ratio***"
   ]
  },
  {
   "cell_type": "code",
   "execution_count": 59,
   "metadata": {
    "colab": {
     "base_uri": "https://localhost:8080/",
     "height": 170
    },
    "colab_type": "code",
    "id": "LEY-K4QOB87P",
    "outputId": "97c5caa7-e22b-4cd6-e5ae-719f679f04e1"
   },
   "outputs": [
    {
     "name": "stdout",
     "output_type": "stream",
     "text": [
      "              precision    recall  f1-score   support\n",
      "\n",
      "           0       0.97      0.96      0.97      5945\n",
      "           1       0.56      0.63      0.60       448\n",
      "\n",
      "    accuracy                           0.94      6393\n",
      "   macro avg       0.77      0.80      0.78      6393\n",
      "weighted avg       0.94      0.94      0.94      6393\n",
      "\n"
     ]
    }
   ],
   "source": [
    "pipe = make_pipeline(\n",
    "    SMOTE(random_state=777,sampling_strategy=grid_result.best_params_['smote__sampling_strategy']),\n",
    "    RandomForestClassifier()\n",
    ")\n",
    "\n",
    "# Fit..\n",
    "pipe.fit(x_tr, y_tr)\n",
    "\n",
    "# Predict..\n",
    "y_pred = pipe.predict(x_val)\n",
    "\n",
    "# Evaluate the model\n",
    "print(classification_report(y_val, y_pred))"
   ]
  },
  {
   "cell_type": "markdown",
   "metadata": {
    "colab_type": "text",
    "id": "A-JX5m2jJMd7"
   },
   "source": [
    "***Fine Tuning Random Forests:-***\n",
    "\n",
    "Most important hyperparameters of Random Forest:\n",
    "\n",
    "n_estimators : num of trees\n",
    "\n",
    "max_features : max number of features considered for splitting a node\n",
    "\n",
    "max_depth : max number of levels in each decision tree\n",
    "\n",
    "min_samples_split : min number of data points placed in a node before the node is split\n",
    "\n",
    "min_samples_leaf : min number of data points allowed in a leaf node\n",
    "\n",
    "bootstrap : method for sampling data points (with or without replacement)\n",
    "\n",
    "Let us fine tune no. of estimators and maximum features to be considered usign GridSearchCV\n"
   ]
  },
  {
   "cell_type": "code",
   "execution_count": 60,
   "metadata": {
    "colab": {
     "base_uri": "https://localhost:8080/",
     "height": 289
    },
    "colab_type": "code",
    "id": "thpO_BoGHyRu",
    "outputId": "04101a63-4183-480c-b935-19230082fef3"
   },
   "outputs": [
    {
     "name": "stdout",
     "output_type": "stream",
     "text": [
      "Fitting 3 folds for each of 8 candidates, totalling 24 fits\n"
     ]
    },
    {
     "name": "stderr",
     "output_type": "stream",
     "text": [
      "[Parallel(n_jobs=-1)]: Using backend LokyBackend with 4 concurrent workers.\n",
      "[Parallel(n_jobs=-1)]: Done  24 out of  24 | elapsed:  3.0min finished\n"
     ]
    },
    {
     "data": {
      "text/plain": [
       "GridSearchCV(cv=StratifiedKFold(n_splits=3, random_state=None, shuffle=False),\n",
       "             estimator=RandomForestClassifier(), n_jobs=-1,\n",
       "             param_grid=[{'max_features': ['auto', 'sqrt'],\n",
       "                          'n_estimators': [10, 40, 50, 60]}],\n",
       "             scoring='f1', verbose=1)"
      ]
     },
     "execution_count": 60,
     "metadata": {},
     "output_type": "execute_result"
    }
   ],
   "source": [
    "from sklearn.model_selection import GridSearchCV\n",
    "kf = StratifiedKFold(n_splits = 3)\n",
    "\n",
    "forest=RandomForestClassifier()\n",
    "\n",
    "param_grid = [\n",
    "{'n_estimators': [10,40,50,60],\n",
    " 'max_features':['auto','sqrt'],\n",
    " }\n",
    "]\n",
    "\n",
    "grid_search_forest = GridSearchCV(forest, param_grid, cv=kf, scoring='f1',verbose=1,n_jobs=-1)\n",
    "grid_search_forest.fit(word2vec,y)"
   ]
  },
  {
   "cell_type": "code",
   "execution_count": 61,
   "metadata": {
    "colab": {
     "base_uri": "https://localhost:8080/",
     "height": 136
    },
    "colab_type": "code",
    "id": "o44k6JsKHyN_",
    "outputId": "81f60d02-6029-403e-d419-2659d0a086bf"
   },
   "outputs": [
    {
     "data": {
      "text/plain": [
       "RandomForestClassifier(n_estimators=40)"
      ]
     },
     "execution_count": 61,
     "metadata": {},
     "output_type": "execute_result"
    }
   ],
   "source": [
    "grid_search_forest.best_estimator_ #Best estimator"
   ]
  },
  {
   "cell_type": "code",
   "execution_count": 62,
   "metadata": {
    "colab": {
     "base_uri": "https://localhost:8080/",
     "height": 170
    },
    "colab_type": "code",
    "id": "UI-RAZkaBDmJ",
    "outputId": "be475694-2fab-4e7d-e2c1-b0c7aa1dd44b"
   },
   "outputs": [
    {
     "name": "stdout",
     "output_type": "stream",
     "text": [
      "              precision    recall  f1-score   support\n",
      "\n",
      "           0       0.97      0.96      0.97      5945\n",
      "           1       0.55      0.62      0.59       448\n",
      "\n",
      "    accuracy                           0.94      6393\n",
      "   macro avg       0.76      0.79      0.78      6393\n",
      "weighted avg       0.94      0.94      0.94      6393\n",
      "\n"
     ]
    }
   ],
   "source": [
    "pipe = make_pipeline(\n",
    "    SMOTE(random_state=777,sampling_strategy=0.5571428571428572),\n",
    "    grid_search_forest.best_estimator_\n",
    ")\n",
    "\n",
    "# Fit..\n",
    "pipe.fit(x_tr, y_tr)\n",
    "\n",
    "# Predict..\n",
    "y_pred = pipe.predict(x_val)\n",
    "\n",
    "# Evaluate the model\n",
    "print(classification_report(y_val, y_pred))"
   ]
  },
  {
   "cell_type": "markdown",
   "metadata": {
    "colab_type": "text",
    "id": "0REmh5ttGo0I"
   },
   "source": [
    "**Observation**\n",
    "\n",
    "We see that the F1 score has increased after the fine tuning of the parameters."
   ]
  },
  {
   "cell_type": "markdown",
   "metadata": {
    "colab_type": "text",
    "id": "nBwxKvUmDNdp"
   },
   "source": [
    "Lets us approach the problem using ***Deep  Learning***!\n",
    "\n",
    "***Why Deep Learning?***\n",
    "\n",
    "a)Deep learning is inspired from our human brain's neuronal structure. Human brain consists of billions of neurons interconnecte to each other. Each neuron receives the signal, processes the signal and pass it on to the other neurons. The same concept is applied here in Deep Learning.\n",
    "\n",
    "b)Neural Networks are capable of learning any non linear function of weights to map the input to output. Thats why, Neural Networks are called as **Universal Function Approximators**.\n",
    "\n",
    "c)In traditonal machine learning algorithms, Feature extraction is very important prior to the model building. Extracting most appropriate features one by one requires domain knowledge and time consuming! Here comes the Deep Learning!\n",
    "\n",
    "***Why LSTM?***\n",
    "\n",
    "a) The problem with Neural Network is quick generalization and prediction is made by different combinations of inputs. \n",
    "\n",
    "b)This is a problem when the prediction has to made by capturing the sequential information from the input rather than trying out different combinations of the input.\n",
    "\n",
    "c) Here comes RNN. But, RNN's suffer from the vanishing gradient due to which it cannot learn the long term dependencies. Thats why we go with LSTMs.\n",
    "\n",
    "d) **Long Short Term Memory** models can capture the long range dependencies which is a shortcome of Recurrent Neural Network.\n",
    "\n",
    "Let us model the problem as Seq2Seq modeling where the input is a sequence of words and output is a class label"
   ]
  },
  {
   "cell_type": "code",
   "execution_count": 63,
   "metadata": {
    "colab": {},
    "colab_type": "code",
    "id": "9FjABtaM82LK"
   },
   "outputs": [
    {
     "name": "stderr",
     "output_type": "stream",
     "text": [
      "Using TensorFlow backend.\n"
     ]
    }
   ],
   "source": [
    "from keras.preprocessing.text import Tokenizer\n",
    "from keras.preprocessing.sequence import pad_sequences\n",
    "from keras.models import *\n",
    "from keras.layers import *\n",
    "from keras.callbacks import *\n",
    "\n",
    "x_tr,x_val,y_tr,y_val=train_test_split(np.array(data['cleaned_tweets']),y,test_size=0.2,random_state=77,stratify=y) #Split data into training and validation data initially\n",
    "\n",
    "## Tokenize the sentences\n",
    "tokenizer = Tokenizer()\n",
    "\n",
    "tokenizer.fit_on_texts(list(x_tr))\n",
    "\n",
    "train_X = tokenizer.texts_to_sequences(x_tr) #Generating sequence with index of the word\n",
    "val_X = tokenizer.texts_to_sequences(x_val)\n",
    "\n",
    "## Pad the sentences to max length of sequence so that every sequence is of same length\n",
    "train_X = pad_sequences(train_X, maxlen=100)\n",
    "val_X = pad_sequences(val_X, maxlen=100)\n"
   ]
  },
  {
   "cell_type": "code",
   "execution_count": 64,
   "metadata": {
    "colab": {},
    "colab_type": "code",
    "id": "_RM_HZXYPygq"
   },
   "outputs": [],
   "source": [
    "size_of_vocabulary=len(tokenizer.word_index) + 1 #padding"
   ]
  },
  {
   "cell_type": "markdown",
   "metadata": {
    "colab_type": "text",
    "id": "ZLAazVQ8fWUx"
   },
   "source": [
    "***Intrinsic Regularization***\n",
    "\n",
    "1.Early stopping is a method that allows you to specify an arbitrary large number of training epochs \n",
    "and stop training once the model performance stops improving on a hold out validation dataset.\n",
    "\n",
    "***Extrinsic Regularization***:-\n",
    "\n",
    "1.Dropout is a regularization method where neurons are randomly dropped from the neural network and weights are not involved during forward propagation as well as the backward propagation.\n",
    "\n",
    "2.This has the effect of reducing overfitting and improving model performance.\n",
    "\n",
    "Let us learn the embeddings from the scratch using keras embedding layer."
   ]
  },
  {
   "cell_type": "code",
   "execution_count": 65,
   "metadata": {
    "colab": {
     "base_uri": "https://localhost:8080/",
     "height": 323
    },
    "colab_type": "code",
    "id": "HM-5UPIfKocb",
    "outputId": "7b9fa9f9-8ef1-442b-d7fe-1e25e8f3bb2c"
   },
   "outputs": [
    {
     "name": "stdout",
     "output_type": "stream",
     "text": [
      "WARNING:tensorflow:From /home/rupanshu/.local/lib/python3.6/site-packages/tensorflow/python/ops/nn_impl.py:180: add_dispatch_support.<locals>.wrapper (from tensorflow.python.ops.array_ops) is deprecated and will be removed in a future version.\n",
      "Instructions for updating:\n",
      "Use tf.where in 2.0, which has the same broadcast rule as np.where\n",
      "Model: \"sequential_1\"\n",
      "_________________________________________________________________\n",
      "Layer (type)                 Output Shape              Param #   \n",
      "=================================================================\n",
      "embedding_1 (Embedding)      (None, 100, 300)          8692200   \n",
      "_________________________________________________________________\n",
      "lstm_1 (LSTM)                (None, 100, 32)           42624     \n",
      "_________________________________________________________________\n",
      "global_max_pooling1d_1 (Glob (None, 32)                0         \n",
      "_________________________________________________________________\n",
      "dense_1 (Dense)              (None, 16)                528       \n",
      "_________________________________________________________________\n",
      "dense_2 (Dense)              (None, 1)                 17        \n",
      "=================================================================\n",
      "Total params: 8,735,369\n",
      "Trainable params: 8,735,369\n",
      "Non-trainable params: 0\n",
      "_________________________________________________________________\n",
      "None\n"
     ]
    }
   ],
   "source": [
    "model=Sequential()\n",
    "#Every word is projected in 300 dimensional space\n",
    "#input_length=Maximum length of sequence\n",
    "#trainable=True represents that embeddings to be learnt during back propagation\n",
    "model.add(Embedding(size_of_vocabulary,300,input_length=100,trainable=True)) \n",
    "model.add(LSTM(32,return_sequences=True,dropout=0.2)) #No. of LSTM cells\n",
    "model.add(GlobalMaxPooling1D())\n",
    "model.add(Dense(16,activation='relu')) #No. of hidden nodes\n",
    "model.add(Dense(1,activation='sigmoid')) \n",
    "model.compile(optimizer='adam', loss='binary_crossentropy',metrics=[\"acc\"]) #Add loss function, metrics, optimizer\n",
    "#Patience :- Adding a delay in terms of the number of epochs on which we would like to see no improvement.\n",
    "es = EarlyStopping(monitor='val_loss', mode='min', verbose=1,patience=2)  #Early stoppage\n",
    "mc=ModelCheckpoint('best_model.h5', monitor='val_loss', mode='min', save_best_only=True,verbose=1)  #To save the best model after every epoch\n",
    "print(model.summary()) #To know about layers and no. of parameters at each layer"
   ]
  },
  {
   "cell_type": "code",
   "execution_count": 66,
   "metadata": {
    "colab": {
     "base_uri": "https://localhost:8080/",
     "height": 391
    },
    "colab_type": "code",
    "id": "uSzIcG9aGa37",
    "outputId": "43ede3d2-4cfe-4ad0-dff0-d9c9f3f6e79a"
   },
   "outputs": [
    {
     "name": "stdout",
     "output_type": "stream",
     "text": [
      "WARNING:tensorflow:From /home/rupanshu/.local/lib/python3.6/site-packages/keras/backend/tensorflow_backend.py:422: The name tf.global_variables is deprecated. Please use tf.compat.v1.global_variables instead.\n",
      "\n",
      "Train on 25569 samples, validate on 6393 samples\n",
      "Epoch 1/10\n",
      "25569/25569 [==============================] - 49s 2ms/step - loss: 0.2848 - acc: 0.9298 - val_loss: 0.2186 - val_acc: 0.9299\n",
      "\n",
      "Epoch 00001: val_loss improved from inf to 0.21862, saving model to best_model.h5\n",
      "Epoch 2/10\n",
      "25569/25569 [==============================] - 48s 2ms/step - loss: 0.1520 - acc: 0.9298 - val_loss: 0.1243 - val_acc: 0.9299\n",
      "\n",
      "Epoch 00002: val_loss improved from 0.21862 to 0.12433, saving model to best_model.h5\n",
      "Epoch 3/10\n",
      "25569/25569 [==============================] - 46s 2ms/step - loss: 0.0869 - acc: 0.9527 - val_loss: 0.1220 - val_acc: 0.9637\n",
      "\n",
      "Epoch 00003: val_loss improved from 0.12433 to 0.12197, saving model to best_model.h5\n",
      "Epoch 4/10\n",
      "25569/25569 [==============================] - 45s 2ms/step - loss: 0.0685 - acc: 0.9856 - val_loss: 0.1324 - val_acc: 0.9643\n",
      "\n",
      "Epoch 00004: val_loss did not improve from 0.12197\n",
      "Epoch 5/10\n",
      "25569/25569 [==============================] - 45s 2ms/step - loss: 0.0598 - acc: 0.9904 - val_loss: 0.1451 - val_acc: 0.9628\n",
      "\n",
      "Epoch 00005: val_loss did not improve from 0.12197\n",
      "Epoch 00005: early stopping\n"
     ]
    }
   ],
   "source": [
    "history = model.fit(np.array(train_X),np.array(y_tr),batch_size=300,epochs=10,validation_data=(np.array(val_X),np.array(y_val)),verbose=1,callbacks=[es,mc])"
   ]
  },
  {
   "cell_type": "markdown",
   "metadata": {
    "colab_type": "text",
    "id": "WWObwIwdfFo8"
   },
   "source": [
    "***Diagnostic plots***\n",
    "\n",
    "a)To  Identify whether the model suffers from overfitting, underfitting or good fit with diagnostic plots(No. of epochs vs loss)\n",
    "\n",
    "b) In case of overfitting, introduce the regularization i.e dropouts in the neural network which randomly drops out few neurons and due to which the rest of the neurons must step in to handle the representation. This leads to better generalization by making the network less sensitive to specific weights of neurons.\n",
    "\n",
    "c) Incase of underfitting, bring up the reprensentational capacity of the model."
   ]
  },
  {
   "cell_type": "code",
   "execution_count": 67,
   "metadata": {
    "colab": {
     "base_uri": "https://localhost:8080/",
     "height": 347
    },
    "colab_type": "code",
    "id": "vayR4KLKVP6_",
    "outputId": "06ea902f-4a32-43af-b686-5becfa5ef10c"
   },
   "outputs": [
    {
     "data": {
      "image/png": "[encoded data removed]",
      "text/plain": [
       "<Figure size 432x288 with 1 Axes>"
      ]
     },
     "metadata": {},
     "output_type": "display_data"
    }
   ],
   "source": [
    "from matplotlib import pyplot\n",
    "pyplot.plot(history.history['loss'], label='train')\n",
    "pyplot.plot(history.history['val_loss'], label='test')\n",
    "pyplot.legend()\n",
    "pyplot.show()"
   ]
  },
  {
   "cell_type": "markdown",
   "metadata": {
    "colab_type": "text",
    "id": "AO32xPbIHlzq"
   },
   "source": [
    "**Observation**:\n",
    "\n",
    "1.After epoch 3, validation loss keeps increasing as the training loss goes down and we achieve the best model at epoch 3 is saved using Model Checkpoints since the model obtained at the end of epoch is not the best one."
   ]
  },
  {
   "cell_type": "code",
   "execution_count": 68,
   "metadata": {
    "colab": {
     "base_uri": "https://localhost:8080/",
     "height": 170
    },
    "colab_type": "code",
    "id": "Y5-SI_5kQrkA",
    "outputId": "5b507fc8-6ccb-4b7f-8852-fedd8055128f"
   },
   "outputs": [
    {
     "name": "stdout",
     "output_type": "stream",
     "text": [
      "              precision    recall  f1-score   support\n",
      "\n",
      "           0       0.97      0.99      0.98      5945\n",
      "           1       0.83      0.58      0.69       448\n",
      "\n",
      "    accuracy                           0.96      6393\n",
      "   macro avg       0.90      0.79      0.83      6393\n",
      "weighted avg       0.96      0.96      0.96      6393\n",
      "\n"
     ]
    }
   ],
   "source": [
    "from keras.models import load_model\n",
    "saved_model = load_model('best_model.h5')\n",
    "\n",
    "y_pred=model.predict_classes(np.array(val_X))\n",
    "\n",
    "print(classification_report(y_val,y_pred))"
   ]
  },
  {
   "cell_type": "code",
   "execution_count": 69,
   "metadata": {
    "colab": {
     "base_uri": "https://localhost:8080/",
     "height": 34
    },
    "colab_type": "code",
    "id": "ZNE1O6Q2Ga0F",
    "outputId": "86e3e910-7205-4d60-f6ea-e2b0a95e76d6"
   },
   "outputs": [
    {
     "name": "stdout",
     "output_type": "stream",
     "text": [
      "6393/6393 [==============================] - 3s 397us/step\n"
     ]
    }
   ],
   "source": [
    "pred_noemb_val_y = model.predict([val_X], batch_size=1024, verbose=1)"
   ]
  },
  {
   "cell_type": "code",
   "execution_count": 70,
   "metadata": {
    "colab": {
     "base_uri": "https://localhost:8080/",
     "height": 714
    },
    "colab_type": "code",
    "id": "P42_m2xXqlsN",
    "outputId": "aceed8f3-a7f3-4f86-8a67-72d3f3cc7ada"
   },
   "outputs": [
    {
     "name": "stdout",
     "output_type": "stream",
     "text": [
      "F1 score at threshold 0.1 is 0.8406047895493383\n",
      "F1 score at threshold 0.11 is 0.8426272218264378\n",
      "F1 score at threshold 0.12 is 0.8428524673021871\n",
      "F1 score at threshold 0.13 is 0.8439465826540364\n",
      "F1 score at threshold 0.14 is 0.8458135621739863\n",
      "F1 score at threshold 0.15 is 0.8454961601525148\n",
      "F1 score at threshold 0.16 is 0.8469456657877017\n",
      "F1 score at threshold 0.17 is 0.8493100897145694\n",
      "F1 score at threshold 0.18 is 0.8503490217559235\n",
      "F1 score at threshold 0.19 is 0.8500329321758033\n",
      "F1 score at threshold 0.2 is 0.8513647565757863\n",
      "F1 score at threshold 0.21 is 0.8511869334326767\n",
      "F1 score at threshold 0.22 is 0.851328835483765\n",
      "F1 score at threshold 0.23 is 0.8506825563438721\n",
      "F1 score at threshold 0.24 is 0.850496910902379\n",
      "F1 score at threshold 0.25 is 0.8495084748641455\n",
      "F1 score at threshold 0.26 is 0.8493124142565278\n",
      "F1 score at threshold 0.27 is 0.8473576560438396\n",
      "F1 score at threshold 0.28 is 0.8466733444315905\n",
      "F1 score at threshold 0.29 is 0.8468021483721134\n",
      "F1 score at threshold 0.3 is 0.8472766364070712\n",
      "F1 score at threshold 0.31 is 0.8478848955626003\n",
      "F1 score at threshold 0.32 is 0.8480182528816271\n",
      "F1 score at threshold 0.33 is 0.8480182528816271\n",
      "F1 score at threshold 0.34 is 0.8484221529478712\n",
      "F1 score at threshold 0.35 is 0.8482071768913617\n",
      "F1 score at threshold 0.36 is 0.8448363200567501\n",
      "F1 score at threshold 0.37 is 0.8445966278431356\n",
      "F1 score at threshold 0.38 is 0.8428883319358162\n",
      "F1 score at threshold 0.39 is 0.841171848550538\n",
      "F1 score at threshold 0.4 is 0.8412831978590338\n",
      "F1 score at threshold 0.41 is 0.840418834611183\n",
      "F1 score at threshold 0.42 is 0.8395523854010283\n",
      "F1 score at threshold 0.43 is 0.8400394402035622\n",
      "F1 score at threshold 0.44 is 0.841620215533259\n",
      "F1 score at threshold 0.45 is 0.8412395164149351\n",
      "F1 score at threshold 0.46 is 0.8378210764430325\n",
      "F1 score at threshold 0.47 is 0.8378210764430325\n",
      "F1 score at threshold 0.48 is 0.8369330070728207\n",
      "F1 score at threshold 0.49 is 0.8343423183152006\n",
      "F1 score at threshold 0.5 is 0.8339351480765502\n"
     ]
    }
   ],
   "source": [
    "for thresh in np.arange(0.1, 0.501, 0.01):\n",
    "    thresh = np.round(thresh, 2)\n",
    "    print(\"F1 score at threshold {0} is {1}\".format(thresh, metrics.f1_score(y_val, (pred_noemb_val_y>thresh).astype(int),average='macro')))"
   ]
  },
  {
   "cell_type": "markdown",
   "metadata": {
    "colab_type": "text",
    "id": "XoGk8L11I-AI"
   },
   "source": [
    "**Observation**\n",
    "\n",
    "We have achieved the best model with F1 score of 0.85 outperforming all the other models.\n",
    "\n",
    "**What we have learnt?**\n",
    "\n",
    "1.What is sentiment Analysis and its use cases?\n",
    "\n",
    "2.What are the steps that has to be taken for data pre-processing?\n",
    "\n",
    "3.Exploratory Data Analysis of text\n",
    "\n",
    "4.Importance of embeddings and its different types\n",
    "\n",
    "5.How to extract features from text using TF-IDF?\n",
    "\n",
    "6.How to learn embeddings from the scratch using word2vec?\n",
    "\n",
    "7.How to handle class imbalance problem?\n",
    "\n",
    "8.Importance of hyper parameter tuning and how to tune them?\n",
    "\n",
    "9.Importance of optimal threshold value and how it affects performance?\n",
    "\n",
    "10.How to model the given problem as Seq2Seq model?\n",
    "\n",
    "11.Reasons behind LSTM?\n",
    "\n",
    "12.How to stop training of Neural Network at the right time?\n",
    "\n",
    "13.How to build deep learning model in keras?\n",
    "\n",
    "14.Diagnostic plots?\n",
    "\n",
    "15.How to control overfitting in Neural Networks?\n"
   ]
  }
 ],
 "metadata": {
  "accelerator": "GPU",
  "colab": {
   "collapsed_sections": [],
   "name": "Beginner's Guide to Twitter Sentiment Analysis.ipynb",
   "provenance": [],
   "version": "0.3.2"
  },
  "kernelspec": {
   "display_name": "Python 3",
   "language": "python",
   "name": "python3"
  },
  "language_info": {
   "codemirror_mode": {
    "name": "ipython",
    "version": 3
   },
   "file_extension": ".py",
   "mimetype": "text/x-python",
   "name": "python",
   "nbconvert_exporter": "python",
   "pygments_lexer": "ipython3",
   "version": "3.6.9"
  }
 },
 "nbformat": 4,
 "nbformat_minor": 1
}
